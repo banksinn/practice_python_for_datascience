{
 "cells": [
  {
   "cell_type": "markdown",
   "metadata": {},
   "source": [
    "Simple Linear Regression"
   ]
  },
  {
   "cell_type": "code",
   "execution_count": 4,
   "metadata": {},
   "outputs": [
    {
     "name": "stdout",
     "output_type": "stream",
     "text": [
      "[5305.07399577]\n"
     ]
    }
   ],
   "source": [
    "from sklearn.linear_model import LinearRegression\n",
    "x = [[450],[600],[750],[500],[650],[1000]] #advertise\n",
    "y = [1200,1500,2000,1400,1550,3500] #sale\n",
    "model = LinearRegression()\n",
    "model.fit(x,y)\n",
    "predict_sale = model.predict([[1500]])\n",
    "print(predict_sale)"
   ]
  },
  {
   "cell_type": "markdown",
   "metadata": {},
   "source": [
    "Multiple Linear Regression"
   ]
  },
  {
   "cell_type": "code",
   "execution_count": 3,
   "metadata": {},
   "outputs": [
    {
     "name": "stdout",
     "output_type": "stream",
     "text": [
      "[36435.40352043]\n"
     ]
    }
   ],
   "source": [
    "from sklearn.linear_model import LinearRegression\n",
    "x = [[1,700],[2,350],[5,450],[3,900],[3,500],[5,650]] #experience ปี , toeic_score\n",
    "y = [30000,25000,38000,35000,31000,42000] #salary\n",
    "model = LinearRegression()\n",
    "model.fit(x,y)\n",
    "predict_sale = model.predict([[4,600]])\n",
    "print(predict_sale)"
   ]
  },
  {
   "cell_type": "markdown",
   "metadata": {},
   "source": [
    "Logistic Regression วิเคราะห์แนวโน้มการเป็นมะเร็งเต้านม"
   ]
  },
  {
   "cell_type": "code",
   "execution_count": 24,
   "metadata": {},
   "outputs": [
    {
     "name": "stdout",
     "output_type": "stream",
     "text": [
      "Features:  ['mean radius' 'mean texture' 'mean perimeter' 'mean area'\n",
      " 'mean smoothness' 'mean compactness' 'mean concavity'\n",
      " 'mean concave points' 'mean symmetry' 'mean fractal dimension'\n",
      " 'radius error' 'texture error' 'perimeter error' 'area error'\n",
      " 'smoothness error' 'compactness error' 'concavity error'\n",
      " 'concave points error' 'symmetry error' 'fractal dimension error'\n",
      " 'worst radius' 'worst texture' 'worst perimeter' 'worst area'\n",
      " 'worst smoothness' 'worst compactness' 'worst concavity'\n",
      " 'worst concave points' 'worst symmetry' 'worst fractal dimension']\n",
      "Targets:  ['malignant' 'benign']\n",
      "ความแม่นยำ :  95.91%\n",
      "confusion_matrix : \n",
      "[[ 56   5]\n",
      " [  2 108]]\n",
      "classification_report : \n",
      "              precision    recall  f1-score   support\n",
      "\n",
      "           0       0.97      0.92      0.94        61\n",
      "           1       0.96      0.98      0.97       110\n",
      "\n",
      "    accuracy                           0.96       171\n",
      "   macro avg       0.96      0.95      0.95       171\n",
      "weighted avg       0.96      0.96      0.96       171\n",
      "\n"
     ]
    },
    {
     "data": {
      "image/png": "[encoded data removed]",
      "text/plain": [
       "<Figure size 432x288 with 2 Axes>"
      ]
     },
     "metadata": {
      "needs_background": "light"
     },
     "output_type": "display_data"
    }
   ],
   "source": [
    "import pandas as pd\n",
    "import numpy as np\n",
    "import matplotlib.pyplot as plt\n",
    "from sklearn import datasets\n",
    "from sklearn.model_selection import train_test_split #แตก dataset เป็น train กับ test dataset\n",
    "from sklearn.linear_model import LogisticRegression\n",
    "# สำหรับตรวจสอบและออกรายงานความถูกต้องของโมเดล\n",
    "from sklearn.metrics import accuracy_score,precision_score,recall_score,f1_score,confusion_matrix,classification_report,plot_confusion_matrix\n",
    "import warnings\n",
    "warnings.filterwarnings(\"ignore\")\n",
    "#load data\n",
    "cancer = datasets.load_breast_cancer()\n",
    "print(\"Features: \",cancer.feature_names)\n",
    "print(\"Targets: \",cancer.target_names) #benign ไม่เป็น = 1, malignant เป็น = 0\n",
    "#clean data\n",
    "# dataset[\"Targets\"] = dataset[\"Targets\"].map({\"B\":1, \"M\":0}) แปลง B เป็น 1 M เป็น 0\n",
    "#split data\n",
    "X_train, X_test, y_train, y_test = train_test_split(cancer.data, cancer.target, test_size=0.3, random_state=5)\n",
    "model_logis = LogisticRegression()\n",
    "classifier = model_logis.fit(X_train,y_train)\n",
    "ypred_test = model_logis.predict(X_test)\n",
    "acc = format(accuracy_score(y_test,ypred_test), \"0.2%\")\n",
    "print(\"ความแม่นยำ : \", acc)\n",
    "disp = plot_confusion_matrix(classifier, X_test, y_test, display_labels=cancer.target_names, cmap=plt.cm.Blues)\n",
    "print(\"confusion_matrix : \")\n",
    "print(disp.confusion_matrix)\n",
    "print(\"classification_report : \")\n",
    "print(classification_report(y_test,ypred_test))\n",
    "plt.show()"
   ]
  },
  {
   "cell_type": "code",
   "execution_count": null,
   "metadata": {},
   "outputs": [],
   "source": []
  }
 ],
 "metadata": {
  "kernelspec": {
   "display_name": "Python 3",
   "language": "python",
   "name": "python3"
  },
  "language_info": {
   "codemirror_mode": {
    "name": "ipython",
    "version": 3
   },
   "file_extension": ".py",
   "mimetype": "text/x-python",
   "name": "python",
   "nbconvert_exporter": "python",
   "pygments_lexer": "ipython3",
   "version": "3.8.5"
  }
 },
 "nbformat": 4,
 "nbformat_minor": 4
}
