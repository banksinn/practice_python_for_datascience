{
 "cells": [
  {
   "cell_type": "code",
   "execution_count": 45,
   "metadata": {},
   "outputs": [
    {
     "name": "stdout",
     "output_type": "stream",
     "text": [
      "0    3.83\n",
      "1    4.00\n",
      "2    2.98\n",
      "3    3.00\n",
      "4    2.80\n",
      "Name: Series1, dtype: float64\n",
      "\n",
      "0     98\n",
      "1    100\n",
      "2     78\n",
      "3     80\n",
      "4     70\n",
      "Name: Series2, dtype: int64\n"
     ]
    }
   ],
   "source": [
    "import pandas as pd\n",
    "list_data = [3.83,4.00,2.98,3.00,2.80]\n",
    "series1 = pd.Series(list_data,name=\"Series1\")\n",
    "print(series1)\n",
    "print()\n",
    "series2 = pd.Series([98,100,78,80,70],name=\"Series2\")\n",
    "print(series2)"
   ]
  },
  {
   "cell_type": "code",
   "execution_count": 46,
   "metadata": {},
   "outputs": [
    {
     "name": "stdout",
     "output_type": "stream",
     "text": [
      "A    3.83\n",
      "A    4.00\n",
      "B    2.98\n",
      "A    3.00\n",
      "B    2.80\n",
      "dtype: float64\n"
     ]
    }
   ],
   "source": [
    "list_data = [3.83,4.00,2.98,3.00,2.80]\n",
    "series1 = pd.Series(list_data,index=[\"A\",\"A\",\"B\",\"A\",\"B\"])\n",
    "print(series1)"
   ]
  },
  {
   "cell_type": "code",
   "execution_count": 47,
   "metadata": {},
   "outputs": [
    {
     "name": "stdout",
     "output_type": "stream",
     "text": [
      "0      red\n",
      "1    green\n",
      "2    green\n",
      "3     blue\n",
      "4     pink\n",
      "5     blue\n",
      "Name: color, dtype: category\n",
      "Categories (4, object): ['blue', 'green', 'pink', 'red']\n"
     ]
    }
   ],
   "source": [
    "tuple_data = [\"red\",\"green\",\"green\",\"blue\",\"pink\",\"blue\"]\n",
    "series1 = pd.Series(tuple_data, dtype=\"category\", name=\"color\")\n",
    "print(series1)"
   ]
  },
  {
   "cell_type": "code",
   "execution_count": 48,
   "metadata": {},
   "outputs": [
    {
     "name": "stdout",
     "output_type": "stream",
     "text": [
      "r      red\n",
      "g    green\n",
      "b     blue\n",
      "p     pink\n",
      "Name: color, dtype: object\n"
     ]
    }
   ],
   "source": [
    "tuple_data = (\"red\",\"green\",\"blue\",\"pink\")\n",
    "series1 = pd.Series(tuple_data, index=(\"r\",\"g\",\"b\",\"p\"), name=\"color\")\n",
    "print(series1)"
   ]
  },
  {
   "cell_type": "code",
   "execution_count": 49,
   "metadata": {},
   "outputs": [
    {
     "name": "stdout",
     "output_type": "stream",
     "text": [
      "Mon       Monday\n",
      "Tue      Tuesday\n",
      "Wed    Wednesday\n",
      "Thu     Thursday\n",
      "Fri       Friday\n",
      "Sat     Saturday\n",
      "Sun       Sunday\n",
      "dtype: object\n"
     ]
    }
   ],
   "source": [
    "dict_data = {\"Mon\":\"Monday\",\"Tue\":\"Tuesday\",\"Wed\":\"Wednesday\",\"Thu\":\"Thursday\",\"Fri\":\"Friday\",\"Sat\":\"Saturday\",\"Sun\":\"Sunday\"}\n",
    "series1 = pd.Series(dict_data)\n",
    "print(series1)"
   ]
  },
  {
   "cell_type": "code",
   "execution_count": 50,
   "metadata": {},
   "outputs": [
    {
     "name": "stdout",
     "output_type": "stream",
     "text": [
      "0    10\n",
      "1    20\n",
      "2    30\n",
      "3    40\n",
      "4    50\n",
      "dtype: int32\n"
     ]
    }
   ],
   "source": [
    "import numpy as np\n",
    "ndarray_data = np.array([10,20,30,40,50])\n",
    "series1 = pd.Series(ndarray_data)\n",
    "print(series1)"
   ]
  },
  {
   "cell_type": "code",
   "execution_count": 51,
   "metadata": {},
   "outputs": [
    {
     "name": "stdout",
     "output_type": "stream",
     "text": [
      "     ชื่อ  นามสกุล  อายุ\n",
      "0   สมชาย      NaN   NaN\n",
      "1  สมหญิง      NaN   NaN\n",
      "2    สมใจ      NaN   NaN\n",
      "0     NaN  รักธรรม   NaN\n",
      "1     NaN     ใจดี   NaN\n",
      "2     NaN    ใฝ่ดี   NaN\n",
      "0     NaN      NaN  18.0\n",
      "1     NaN      NaN  19.0\n",
      "2     NaN      NaN  20.0\n",
      "     ชื่อ  นามสกุล  อายุ\n",
      "0   สมชาย      NaN   NaN\n",
      "1  สมหญิง      NaN   NaN\n",
      "2    สมใจ      NaN   NaN\n",
      "0     NaN  รักธรรม   NaN\n",
      "1     NaN     ใจดี   NaN\n",
      "2     NaN    ใฝ่ดี   NaN\n",
      "0     NaN      NaN  18.0\n",
      "1     NaN      NaN  19.0\n",
      "2     NaN      NaN  20.0\n",
      "     ชื่อ  นามสกุล  อายุ\n",
      "0   สมชาย  รักธรรม    18\n",
      "1  สมหญิง     ใจดี    19\n",
      "2    สมใจ    ใฝ่ดี    20\n"
     ]
    }
   ],
   "source": [
    "name_series = pd.Series([\"สมชาย\",\"สมหญิง\",\"สมใจ\"])\n",
    "surname_series = pd.Series([\"รักธรรม\",\"ใจดี\",\"ใฝ่ดี\"])\n",
    "age_series = pd.Series([18,19,20])\n",
    "name_df = pd.DataFrame(name_series,columns=[\"ชื่อ\"])\n",
    "surname_df = pd.DataFrame(surname_series,columns=[\"นามสกุล\"])\n",
    "age_df = pd.DataFrame(age_series,columns=[\"อายุ\"])\n",
    "df = pd.concat([name_df,surname_df,age_df])\n",
    "print(df)\n",
    "df_axis0 = pd.concat([name_df,surname_df,age_df],axis=0)\n",
    "print(df_axis0)\n",
    "df_axis1 = pd.concat([name_df,surname_df,age_df],axis=1)\n",
    "print(df_axis1)"
   ]
  },
  {
   "cell_type": "code",
   "execution_count": 52,
   "metadata": {},
   "outputs": [
    {
     "name": "stdout",
     "output_type": "stream",
     "text": [
      "       ชื่อ  เงินดือน\n",
      "0     นายเอ     18000\n",
      "1  นางสาวบี     25000\n",
      "2     นายซี     35000\n"
     ]
    }
   ],
   "source": [
    "data = [[\"นายเอ\",18000],[\"นางสาวบี\",25000],[\"นายซี\",35000]]\n",
    "df = pd.DataFrame(data,columns=[\"ชื่อ\",\"เงินดือน\"])\n",
    "print(df)"
   ]
  },
  {
   "cell_type": "code",
   "execution_count": 53,
   "metadata": {},
   "outputs": [
    {
     "name": "stdout",
     "output_type": "stream",
     "text": [
      "       ชื่อ  เงินเดือน\n",
      "0     นายเอ      18000\n",
      "1  นางสาวบี      25000\n",
      "2     นายซี      35000\n"
     ]
    }
   ],
   "source": [
    "data = [{\"ชื่อ\":\"นายเอ\",\"เงินเดือน\":18000},{\"ชื่อ\":\"นางสาวบี\",\"เงินเดือน\":25000},{\"ชื่อ\":\"นายซี\",\"เงินเดือน\":35000}]\n",
    "df = pd.DataFrame(data)\n",
    "print(df)"
   ]
  },
  {
   "cell_type": "code",
   "execution_count": 54,
   "metadata": {},
   "outputs": [
    {
     "name": "stdout",
     "output_type": "stream",
     "text": [
      "       ชื่อ  เงินเดือน\n",
      "0     นายเอ      18000\n",
      "1  นางสาวบี      25000\n",
      "2     นายซี      35000\n"
     ]
    }
   ],
   "source": [
    "name = [\"นายเอ\", \"นางสาวบี\", \"นายซี\"]\n",
    "salary = [18000,25000,35000]\n",
    "data = {\"ชื่อ\":name,\"เงินเดือน\":salary}\n",
    "df = pd.DataFrame(data)\n",
    "print(df)"
   ]
  },
  {
   "cell_type": "code",
   "execution_count": 55,
   "metadata": {},
   "outputs": [
    {
     "name": "stdout",
     "output_type": "stream",
     "text": [
      "              ชื่อ  นามสกุล  เกรด\n",
      "001      ด.ช.สมชาย     ใสดี  3.83\n",
      "002       ด.ญ.สมใจ  เรียนดี  2.82\n",
      "003     ด.ญ.แก้มใส  วินัยดี  3.58\n",
      "004  ด.ช.สมเกียรติ   รักไทย  2.95\n",
      "005     ด.ช.สมหญิง  ถิ่นไทย  2.68\n"
     ]
    }
   ],
   "source": [
    "array = np.array([[\"ด.ช.สมชาย\", \"ใสดี\", 3.83],\n",
    "                          [\"ด.ญ.สมใจ\", \"เรียนดี\", 2.82],\n",
    "                          [\"ด.ญ.แก้มใส\", \"วินัยดี\", 3.58],\n",
    "                          [\"ด.ช.สมเกียรติ\", \"รักไทย\", 2.95],\n",
    "                          [\"ด.ช.สมหญิง\", \"ถิ่นไทย\", 2.68]])\n",
    "index_values = [\"001\",\"002\",\"003\",\"004\",\"005\"]\n",
    "column_values = [\"ชื่อ\",\"นามสกุล\",\"เกรด\"]\n",
    "df = pd.DataFrame(data=array,index=index_values,columns=column_values)\n",
    "print(df)"
   ]
  },
  {
   "cell_type": "code",
   "execution_count": 56,
   "metadata": {},
   "outputs": [
    {
     "name": "stdout",
     "output_type": "stream",
     "text": [
      "Mon       Monday\n",
      "Tue      Tuesday\n",
      "Wed    Wednesday\n",
      "Thu     Thursday\n",
      "Fri       Friday\n",
      "Sat     Saturday\n",
      "Sun       Sunday\n",
      "dtype: object\n",
      "ค่าของข้อมูลของ Series มีดังนี้  ['Monday' 'Tuesday' 'Wednesday' 'Thursday' 'Friday' 'Saturday' 'Sunday']\n",
      "ค่า index ของ Series มีดังนี้  Index(['Mon', 'Tue', 'Wed', 'Thu', 'Fri', 'Sat', 'Sun'], dtype='object')\n",
      "\n",
      "ข้อมูล 5 ตัวแรกสุดของ Series มีดังนี้  ['Monday' 'Tuesday' 'Wednesday' 'Thursday' 'Friday']\n",
      "ข้อมูล 3 ตัวแรกสุดของ Series คือ\n",
      "Mon       Monday\n",
      "Tue      Tuesday\n",
      "Wed    Wednesday\n",
      "dtype: object\n",
      "ข้อมูล 5 ตัวท้ายสุดของ Series มีดังนี้ ['Wednesday' 'Thursday' 'Friday' 'Saturday' 'Sunday']\n"
     ]
    }
   ],
   "source": [
    "dict_data = {\"Mon\":\"Monday\",\"Tue\":\"Tuesday\",\"Wed\":\"Wednesday\",\"Thu\":\"Thursday\",\"Fri\":\"Friday\",\"Sat\":\"Saturday\",\"Sun\":\"Sunday\"}\n",
    "series1 = pd.Series(dict_data)\n",
    "print(series1)\n",
    "print(\"ค่าของข้อมูลของ Series มีดังนี้ \",series1.values)\n",
    "print(\"ค่า index ของ Series มีดังนี้ \",series1.index)\n",
    "print()\n",
    "print(\"ข้อมูล 5 ตัวแรกสุดของ Series มีดังนี้ \",series1.head().values)\n",
    "print(\"ข้อมูล 3 ตัวแรกสุดของ Series คือ\")\n",
    "print(series1.head(3))\n",
    "print(\"ข้อมูล 5 ตัวท้ายสุดของ Series มีดังนี้\",series1.tail().values)"
   ]
  },
  {
   "cell_type": "code",
   "execution_count": 57,
   "metadata": {},
   "outputs": [
    {
     "name": "stdout",
     "output_type": "stream",
     "text": [
      "10\n",
      "90\n",
      "\n",
      "0    10\n",
      "2    30\n",
      "4    50\n",
      "6    70\n",
      "8    90\n",
      "dtype: int64\n"
     ]
    }
   ],
   "source": [
    "series1 = pd.Series([10,20,30,40,50,60,70,80,90])\n",
    "print(series1[0])\n",
    "print(series1[8])\n",
    "print()\n",
    "print(series1[[0,2,4,6,8]])"
   ]
  },
  {
   "cell_type": "code",
   "execution_count": 58,
   "metadata": {},
   "outputs": [
    {
     "name": "stdout",
     "output_type": "stream",
     "text": [
      "['P' 'Y']\n",
      "['T' 'H' 'O' 'N']\n",
      "['P' 'Y']\n",
      "['P' 'Y' 'T' 'H' 'O' 'N']\n",
      "['H' 'O' 'N']\n",
      "['O' 'N']\n"
     ]
    }
   ],
   "source": [
    "series1 = pd.Series([\"P\",\"Y\",\"T\",\"H\",\"O\",\"N\"])\n",
    "print(series1[0:2].values)\n",
    "print(series1[2:6].values)\n",
    "print(series1[:2].values)\n",
    "print(series1[:6].values)\n",
    "print(series1[3:].values)\n",
    "print(series1[4:].values)"
   ]
  },
  {
   "cell_type": "code",
   "execution_count": 59,
   "metadata": {},
   "outputs": [
    {
     "name": "stdout",
     "output_type": "stream",
     "text": [
      "['Alex' 'Barbie']\n",
      "['Alex' 'Barbie']\n",
      "['David' 'Elsa']\n",
      "['Alex' 'Barbie' 'Cathie']\n",
      "['Alex' 'Barbie' 'Cathie']\n",
      "['David' 'Elsa']\n"
     ]
    }
   ],
   "source": [
    "series1 = pd.Series([\"Alex\",\"Barbie\",\"Cathie\",\"David\",\"Elsa\"],index=[\"A\",\"B\",\"C\",\"D\",\"E\"])\n",
    "print(series1[0:2].values)\n",
    "print(series1[:2].values)\n",
    "print(series1[3:].values)\n",
    "print(series1.loc[\"A\":\"C\"].values)\n",
    "print(series1.loc[:\"C\"].values)\n",
    "print(series1.loc[\"D\":].values)"
   ]
  },
  {
   "cell_type": "code",
   "execution_count": 60,
   "metadata": {},
   "outputs": [
    {
     "name": "stdout",
     "output_type": "stream",
     "text": [
      "เรียงข้อมูลตามลำดับ index ของ Series\n",
      "A    8.8\n",
      "B    7.7\n",
      "C    1.1\n",
      "D    NaN\n",
      "E    2.2\n",
      "dtype: float64\n",
      "เรียงข้อมูลตามลำดับข้อมูลของ Series\n",
      "C    1.1\n",
      "E    2.2\n",
      "B    7.7\n",
      "A    8.8\n",
      "D    NaN\n",
      "dtype: float64\n",
      "A    8.8\n",
      "B    7.7\n",
      "E    2.2\n",
      "C    1.1\n",
      "D    NaN\n",
      "dtype: float64\n",
      "D    NaN\n",
      "A    8.8\n",
      "B    7.7\n",
      "E    2.2\n",
      "C    1.1\n",
      "dtype: float64\n"
     ]
    }
   ],
   "source": [
    "list_data = [8.8,7.7,1.1,np.NaN,2.2]\n",
    "series1 = pd.Series(list_data, index = [\"A\",\"B\",\"C\",\"D\",\"E\"])\n",
    "print(\"เรียงข้อมูลตามลำดับ index ของ Series\")\n",
    "print(series1.sort_index())\n",
    "print(\"เรียงข้อมูลตามลำดับข้อมูลของ Series\")\n",
    "print(series1.sort_values())\n",
    "print(series1.sort_values(ascending=False)) #เรียงจากมากไปน้อย\n",
    "print(series1.sort_values(ascending=False,na_position=\"first\"))"
   ]
  },
  {
   "cell_type": "code",
   "execution_count": 61,
   "metadata": {},
   "outputs": [
    {
     "name": "stdout",
     "output_type": "stream",
     "text": [
      "0    10\n",
      "1    20\n",
      "2    30\n",
      "0    40\n",
      "1    50\n",
      "2    60\n",
      "0    70\n",
      "1    80\n",
      "2    90\n",
      "dtype: int64\n",
      "\n",
      "0     10\n",
      "1     20\n",
      "2     30\n",
      "3     40\n",
      "4     50\n",
      "5     60\n",
      "6     70\n",
      "7     80\n",
      "8     90\n",
      "9     70\n",
      "10    80\n",
      "11    90\n",
      "dtype: int64\n"
     ]
    }
   ],
   "source": [
    "s1 = pd.Series([10,20,30])\n",
    "s1 = s1.append(pd.Series([40,50,60]))\n",
    "s2 = pd.Series([70,80,90])\n",
    "s1 = s1.append(s2)\n",
    "print(s1) #index ไม่เรียงให้\n",
    "print()\n",
    "s1 = s1.append(s2,ignore_index=True)\n",
    "print(s1)"
   ]
  },
  {
   "cell_type": "code",
   "execution_count": 62,
   "metadata": {},
   "outputs": [
    {
     "name": "stdout",
     "output_type": "stream",
     "text": [
      "0    10\n",
      "1    20\n",
      "2    30\n",
      "3    40\n",
      "4    50\n",
      "dtype: int64\n",
      "1    20\n",
      "2    30\n",
      "3    40\n",
      "4    50\n",
      "dtype: int64\n",
      "i1     60\n",
      "i4     90\n",
      "i5    100\n",
      "dtype: int64\n"
     ]
    }
   ],
   "source": [
    "s1 = pd.Series([10,20,30,40,50])\n",
    "s1.drop(index=0)\n",
    "print(s1)\n",
    "s1.drop(index=0,inplace=True) #ต้องมี inplace=True เพราะต้องแทนที่ Series เดิม\n",
    "print(s1)\n",
    "s2 = pd.Series([60,70,80,90,100],index=[\"i1\",\"i2\",\"i3\",\"i4\",\"i5\"])\n",
    "s2.drop(labels=[\"i2\",\"i3\"],inplace=True) #ต้องมี inplace=True เพราะต้องแทนที่ Series เดิม\n",
    "print(s2)"
   ]
  },
  {
   "cell_type": "code",
   "execution_count": 63,
   "metadata": {},
   "outputs": [
    {
     "name": "stdout",
     "output_type": "stream",
     "text": [
      "0     100\n",
      "1      39\n",
      "2      18\n",
      "3       8\n",
      "4      90\n",
      "5      25\n",
      "6       8\n",
      "7    1000\n",
      "dtype: int64\n"
     ]
    }
   ],
   "source": [
    "s1 = pd.Series([25,39,18,8,90,25,8,90])\n",
    "s1.update(pd.Series([100,1000],index=[0,7]))\n",
    "print(s1)"
   ]
  },
  {
   "cell_type": "code",
   "execution_count": 64,
   "metadata": {},
   "outputs": [
    {
     "name": "stdout",
     "output_type": "stream",
     "text": [
      "  ชื่อผู้เล่น   ชื่อทีม คะแนน\n",
      "A     Player1       ABC   256\n",
      "B     Player2   SkyBlue   320\n",
      "C     Player3       ABC   185\n",
      "D     Player4   SkyBlue   225\n",
      "E     Player5  Rotation   333\n",
      "F     Player6  Momomama   210\n",
      "Player4\n",
      "185\n",
      "  ชื่อผู้เล่น  ชื่อทีม คะแนน\n",
      "A     Player1      ABC   256\n",
      "B     Player2  SkyBlue   320\n",
      "C     Player3      ABC   185\n",
      "  ชื่อผู้เล่น  ชื่อทีม คะแนน\n",
      "A     Player1      ABC   256\n",
      "B     Player2  SkyBlue   320\n",
      "C     Player3      ABC   185\n",
      "  ชื่อผู้เล่น  ชื่อทีม คะแนน\n",
      "B     Player2  SkyBlue   320\n",
      "D     Player4  SkyBlue   225\n",
      "  ชื่อผู้เล่น  ชื่อทีม คะแนน\n",
      "A     Player1      ABC   256\n",
      "B     Player2  SkyBlue   320\n",
      "C     Player3      ABC   185\n",
      "D     Player4  SkyBlue   225\n",
      "  ชื่อผู้เล่น   ชื่อทีม คะแนน\n",
      "A     Player1       ABC   256\n",
      "B     Player2   SkyBlue   320\n",
      "E     Player5  Rotation   333\n"
     ]
    }
   ],
   "source": [
    "my_df = np.array([[\"Player1\",\"ABC\",256],\n",
    "                           [\"Player2\",\"SkyBlue\",320],\n",
    "                           [\"Player3\",\"ABC\",185],\n",
    "                           [\"Player4\",\"SkyBlue\",225],\n",
    "                           [\"Player5\",\"Rotation\",333],\n",
    "                           [\"Player6\",\"Momomama\",210]])\n",
    "df = pd.DataFrame(data=my_df,\n",
    "                             columns = [\"ชื่อผู้เล่น\",\"ชื่อทีม\",\"คะแนน\"],\n",
    "                             index = [\"A\",\"B\",\"C\",\"D\",\"E\",\"F\"])\n",
    "print(df)\n",
    "print(df.at[\"D\",\"ชื่อผู้เล่น\"])\n",
    "print(df.iat[2,2])\n",
    "print(df.loc[\"A\":\"C\",\"ชื่อผู้เล่น\":\"คะแนน\"])\n",
    "print(df.iloc[0:3,0:3])\n",
    "print(df.loc[df[\"ชื่อทีม\"] == \"SkyBlue\"])\n",
    "print(df.loc[(df[\"ชื่อทีม\"] == \"SkyBlue\") | (df[\"ชื่อทีม\"] == \"ABC\")])\n",
    "print(df.loc[pd.to_numeric(df[\"คะแนน\"]) > 250])"
   ]
  },
  {
   "cell_type": "code",
   "execution_count": 65,
   "metadata": {},
   "outputs": [
    {
     "name": "stdout",
     "output_type": "stream",
     "text": [
      "  ชื่อผู้เล่น   ชื่อทีม คะแนน\n",
      "A     Player1       ABC   256\n",
      "B     Player2   SkyBlue   320\n",
      "C     Player3       ABC   185\n",
      "D     Player4   SkyBlue   225\n",
      "E     Player5  Rotation   333\n",
      "F     Player6  Momomama   210\n",
      "ชื่อผู้เล่น\n",
      "A    Player1\n",
      "B    Player2\n",
      "C    Player3\n",
      "D    Player4\n",
      "E    Player5\n",
      "F    Player6\n",
      "Name: ชื่อผู้เล่น, dtype: object\n",
      "ชื่อทีม\n",
      "A         ABC\n",
      "B     SkyBlue\n",
      "C         ABC\n",
      "D     SkyBlue\n",
      "E    Rotation\n",
      "F    Momomama\n",
      "Name: ชื่อทีม, dtype: object\n",
      "คะแนน\n",
      "A    256\n",
      "B    320\n",
      "C    185\n",
      "D    225\n",
      "E    333\n",
      "F    210\n",
      "Name: คะแนน, dtype: object\n",
      "\n",
      "A\n",
      "ชื่อผู้เล่น    Player1\n",
      "ชื่อทีม            ABC\n",
      "คะแนน              256\n",
      "Name: A, dtype: object\n",
      "B\n",
      "ชื่อผู้เล่น    Player2\n",
      "ชื่อทีม        SkyBlue\n",
      "คะแนน              320\n",
      "Name: B, dtype: object\n",
      "C\n",
      "ชื่อผู้เล่น    Player3\n",
      "ชื่อทีม            ABC\n",
      "คะแนน              185\n",
      "Name: C, dtype: object\n",
      "D\n",
      "ชื่อผู้เล่น    Player4\n",
      "ชื่อทีม        SkyBlue\n",
      "คะแนน              225\n",
      "Name: D, dtype: object\n",
      "E\n",
      "ชื่อผู้เล่น     Player5\n",
      "ชื่อทีม        Rotation\n",
      "คะแนน               333\n",
      "Name: E, dtype: object\n",
      "F\n",
      "ชื่อผู้เล่น     Player6\n",
      "ชื่อทีม        Momomama\n",
      "คะแนน               210\n",
      "Name: F, dtype: object\n",
      "\n",
      "Pandas(Index='A', ชื่อผู้เล่น='Player1', ชื่อทีม='ABC', คะแนน='256')\n",
      "Pandas(Index='B', ชื่อผู้เล่น='Player2', ชื่อทีม='SkyBlue', คะแนน='320')\n",
      "Pandas(Index='C', ชื่อผู้เล่น='Player3', ชื่อทีม='ABC', คะแนน='185')\n",
      "Pandas(Index='D', ชื่อผู้เล่น='Player4', ชื่อทีม='SkyBlue', คะแนน='225')\n",
      "Pandas(Index='E', ชื่อผู้เล่น='Player5', ชื่อทีม='Rotation', คะแนน='333')\n",
      "Pandas(Index='F', ชื่อผู้เล่น='Player6', ชื่อทีม='Momomama', คะแนน='210')\n"
     ]
    }
   ],
   "source": [
    "my_df = np.array([[\"Player1\",\"ABC\",256],\n",
    "                           [\"Player2\",\"SkyBlue\",320],\n",
    "                           [\"Player3\",\"ABC\",185],\n",
    "                           [\"Player4\",\"SkyBlue\",225],\n",
    "                           [\"Player5\",\"Rotation\",333],\n",
    "                           [\"Player6\",\"Momomama\",210]])\n",
    "df = pd.DataFrame(data=my_df,\n",
    "                             columns = [\"ชื่อผู้เล่น\",\"ชื่อทีม\",\"คะแนน\"],\n",
    "                             index = [\"A\",\"B\",\"C\",\"D\",\"E\",\"F\"])\n",
    "print(df)\n",
    "for key , value in df.iteritems():\n",
    "    print(key)\n",
    "    print(value)\n",
    "print()\n",
    "for index , row in df.iterrows():\n",
    "    print(index)\n",
    "    print(row)\n",
    "print()\n",
    "for i in df.itertuples():\n",
    "    print(i)"
   ]
  },
  {
   "cell_type": "code",
   "execution_count": 66,
   "metadata": {},
   "outputs": [
    {
     "name": "stdout",
     "output_type": "stream",
     "text": [
      "  ชื่อผู้เล่น    ชื่อทีม คะแนน\n",
      "9     Player9   NineNine   225\n",
      "8     Player8  NumberOne   256\n",
      "7     Player7  NumberTwo   256\n",
      "6     Player6   SixZipZa   210\n",
      "5     Player5   FiveStar   333\n",
      "1     Player1  NumberOne   256\n",
      "  ชื่อผู้เล่น    ชื่อทีม คะแนน\n",
      "8     Player8  NumberOne   256\n",
      "7     Player7  NumberTwo   256\n",
      "1     Player1  NumberOne   256\n",
      "9     Player9   NineNine   225\n",
      "5     Player5   FiveStar   333\n",
      "6     Player6   SixZipZa   210\n",
      "None\n",
      "  ชื่อผู้เล่น    ชื่อทีม คะแนน\n",
      "9     Player9   NineNine   225\n",
      "8     Player8  NumberOne   256\n",
      "7     Player7  NumberTwo   256\n",
      "6     Player6   SixZipZa   210\n",
      "5     Player5   FiveStar   333\n",
      "1     Player1  NumberOne   256\n",
      "  ชื่อผู้เล่น    ชื่อทีม คะแนน\n",
      "6     Player6   SixZipZa   210\n",
      "9     Player9   NineNine   225\n",
      "8     Player8  NumberOne   256\n",
      "7     Player7  NumberTwo   256\n",
      "1     Player1  NumberOne   256\n",
      "5     Player5   FiveStar   333\n",
      "  ชื่อผู้เล่น    ชื่อทีม คะแนน\n",
      "6     Player6   SixZipZa   210\n",
      "9     Player9   NineNine   225\n",
      "1     Player1  NumberOne   256\n",
      "8     Player8  NumberOne   256\n",
      "7     Player7  NumberTwo   256\n",
      "5     Player5   FiveStar   333\n",
      "  ชื่อผู้เล่น    ชื่อทีม คะแนน\n",
      "5     Player5   FiveStar   333\n",
      "1     Player1  NumberOne   256\n",
      "8     Player8  NumberOne   256\n",
      "7     Player7  NumberTwo   256\n",
      "9     Player9   NineNine   225\n",
      "6     Player6   SixZipZa   210\n",
      "  ชื่อผู้เล่น   ชือสโมสร คะแนน\n",
      "6     Player6   SixZipZa   210\n",
      "9     Player9   NineNine   225\n",
      "8     Player8  NumberOne   256\n",
      "7     Player7  NumberTwo   256\n",
      "1     Player1  NumberOne   256\n",
      "5     Player5   FiveStar   333\n",
      "  ชื่อผู้เล่น    ชื่อทีม คะแนน อายุ\n",
      "6     Player6   SixZipZa   210   18\n",
      "9     Player9   NineNine   225   23\n",
      "8     Player8  NumberOne   256   20\n",
      "7     Player7  NumberTwo   256   18\n",
      "1     Player1  NumberOne   256   19\n",
      "5     Player5   FiveStar   333   19\n",
      "  ชื่อผู้เล่น อายุ    ชื่อทีม คะแนน อายุ\n",
      "6     Player6   18   SixZipZa   210   18\n",
      "9     Player9   23   NineNine   225   23\n",
      "8     Player8   20  NumberOne   256   20\n",
      "7     Player7   18  NumberTwo   256   18\n",
      "1     Player1   19  NumberOne   256   19\n",
      "5     Player5   19   FiveStar   333   19\n",
      "  ชื่อผู้เล่น อายุ    ชื่อทีม คะแนน อายุ  จํานวน\n",
      "6     Player6   18   SixZipZa   210   18       1\n",
      "9     Player9   23   NineNine   225   23       2\n",
      "8     Player8   20  NumberOne   256   20       3\n",
      "7     Player7   18  NumberTwo   256   18       4\n",
      "1     Player1   19  NumberOne   256   19       5\n",
      "5     Player5   19   FiveStar   333   19       6\n"
     ]
    }
   ],
   "source": [
    "my_df = np.array([[\"Player8\",\"NumberOne\",256],\n",
    "                           [\"Player7\",\"NumberTwo\",256],\n",
    "                           [\"Player1\",\"NumberOne\",256],\n",
    "                           [\"Player9\",\"NineNine\",225],\n",
    "                           [\"Player5\",\"FiveStar\",333],\n",
    "                           [\"Player6\",\"SixZipZa\",210]])\n",
    "df = pd.DataFrame(data=my_df,\n",
    "                             columns = [\"ชื่อผู้เล่น\",\"ชื่อทีม\",\"คะแนน\"],\n",
    "                             index = [\"8\",\"7\",\"1\",\"9\",\"5\",\"6\"])\n",
    "print(df.sort_index(\"index\", ascending=False)) #ค่าไม่ถูกเก็บใน df\n",
    "print(df)\n",
    "print(df.sort_index(\"index\", ascending=False,inplace=True)) #ค่าถูกเก็บใน df\n",
    "print(df)\n",
    "df.sort_values(\"คะแนน\",inplace=True)\n",
    "print(df)\n",
    "print(df.sort_values([\"คะแนน\",\"ชื่อทีม\",\"ชื่อผู้เล่น\"])) # sort คะแนนก่อน มาชื่อทีม มาชื่อผู้เล่น\n",
    "print(df.sort_values([\"คะแนน\",\"ชื่อทีม\",\"ชื่อผู้เล่น\"],ascending=[False,True,True]))\n",
    "df_new = df.rename(columns={\"ชื่อทีม\":\"ชือสโมสร\"})\n",
    "print(df_new)\n",
    "age = [\"18\",\"23\",\"20\",\"18\",\"19\",\"19\"]\n",
    "df[\"อายุ\"] = age\n",
    "print(df)\n",
    "df.insert(1,\"อายุ\",[18,23,20,18,19,19],True) #allow_duplicates = False คือ ชื่อคอลัมน์ซ้ำไม่ได้, True คือ ชื่อคอลัมน์ซ้ำได้\n",
    "print(df)\n",
    "df = df.assign(จำนวน = [1,2,3,4,5,6]) #จะไปต่อท้ายเสมอ\n",
    "print(df)"
   ]
  },
  {
   "cell_type": "code",
   "execution_count": 67,
   "metadata": {},
   "outputs": [
    {
     "name": "stdout",
     "output_type": "stream",
     "text": [
      "    ชื่อผู้เล่น    ชื่อทีม คะแนน\n",
      "8       Player8  NumberOne   256\n",
      "7       Player7  NumberTwo   256\n",
      "1       Player1  NumberOne   256\n",
      "9       Player9   NineNine   225\n",
      "5       Player5   FiveStar   333\n",
      "6       Player6   SixZipZa   210\n",
      "0  New_Player88        NaN   280\n",
      "1  New_Player77        NaN   320\n",
      "    ชื่อผู้เล่น    ชื่อทีม คะแนน\n",
      "0       Player8  NumberOne   256\n",
      "1       Player7  NumberTwo   256\n",
      "2       Player1  NumberOne   256\n",
      "3       Player9   NineNine   225\n",
      "4       Player5   FiveStar   333\n",
      "5       Player6   SixZipZa   210\n",
      "6  New_Player88        NaN   280\n",
      "7  New_Player77        NaN   320\n"
     ]
    }
   ],
   "source": [
    "my_df = np.array([[\"Player8\",\"NumberOne\",256],\n",
    "                           [\"Player7\",\"NumberTwo\",256],\n",
    "                           [\"Player1\",\"NumberOne\",256],\n",
    "                           [\"Player9\",\"NineNine\",225],\n",
    "                           [\"Player5\",\"FiveStar\",333],\n",
    "                           [\"Player6\",\"SixZipZa\",210]])\n",
    "new_df = np.array([[\"New_Player88\",280],\n",
    "                            [\"New_Player77\",320]])\n",
    "df = pd.DataFrame(data=my_df,\n",
    "                             columns = [\"ชื่อผู้เล่น\",\"ชื่อทีม\",\"คะแนน\"],\n",
    "                             index = [\"8\",\"7\",\"1\",\"9\",\"5\",\"6\"])\n",
    "df2 = pd.DataFrame(data=new_df, columns=[\"ชื่อผู้เล่น\",\"คะแนน\"])\n",
    "new_df1 = df.append(df2)\n",
    "print(new_df1)\n",
    "new_df2 = df.append(df2,ignore_index=True)\n",
    "print(new_df2)"
   ]
  },
  {
   "cell_type": "code",
   "execution_count": 68,
   "metadata": {},
   "outputs": [
    {
     "name": "stdout",
     "output_type": "stream",
     "text": [
      "  ชื่อสินค้า ราคา\n",
      "0     Snack1   15\n",
      "1     Snack2   25\n",
      "2     Snack3   35\n"
     ]
    }
   ],
   "source": [
    "my_df = np.array([[\"Snack1\",10],\n",
    "                            [\"Snack2\",20],\n",
    "                            [\"Snack3\",30],])\n",
    "df = pd.DataFrame(data=my_df,columns=[\"ชื่อสินค้า\",\"ราคา\"])\n",
    "for i in df.index:\n",
    "    df.at[i,\"ราคา\"] = pd.to_numeric(df.at[i,\"ราคา\"])+5\n",
    "print(df)"
   ]
  },
  {
   "cell_type": "code",
   "execution_count": 69,
   "metadata": {},
   "outputs": [
    {
     "name": "stdout",
     "output_type": "stream",
     "text": [
      "A    11.0\n",
      "B    21.0\n",
      "C    31.0\n",
      "C    32.0\n",
      "B    22.0\n",
      "A    12.0\n",
      "D     NaN\n",
      "dtype: float64\n",
      "A    2\n",
      "B    2\n",
      "C    2\n",
      "D    0\n",
      "dtype: int64\n",
      "A    2\n",
      "B    2\n",
      "C    2\n",
      "D    1\n",
      "dtype: int64\n",
      "หาค่าต่ำสุด-สูงสุดของข้อมูลในแต่ละกลุ่ม\n",
      "    min   max\n",
      "A  11.0  12.0\n",
      "B  21.0  22.0\n",
      "C  31.0  32.0\n",
      "D   NaN   NaN\n"
     ]
    }
   ],
   "source": [
    "list_data = [11,21,31,32,22,12,np.NaN]\n",
    "index_list = [\"A\",\"B\",\"C\",\"C\",\"B\",\"A\",\"D\"]\n",
    "series = pd.Series(list_data, index = index_list)\n",
    "print(series)\n",
    "print(series.groupby(index_list).count()) #ไม่นับ NaN\n",
    "print(series.groupby(index_list).size()) #นับ NaN\n",
    "print(\"หาค่าต่ำสุด-สูงสุดของข้อมูลในแต่ละกลุ่ม\")\n",
    "print(series.groupby(index_list).agg([min,max]))"
   ]
  },
  {
   "cell_type": "code",
   "execution_count": 70,
   "metadata": {},
   "outputs": [
    {
     "name": "stdout",
     "output_type": "stream",
     "text": [
      "  EmpName   Dept  Salary\n",
      "0    Emp1  Team1   25000\n",
      "1    Emp2  Team1   32500\n",
      "2    Emp3  Team1   18000\n",
      "3    Emp4  Team1   20000\n",
      "4    Emp5  Team2   85000\n",
      "5    Emp6  Team2   85000\n",
      "6    Emp7  Team2   70000\n"
     ]
    },
    {
     "data": {
      "text/html": [
       "<div>\n",
       "<style scoped>\n",
       "    .dataframe tbody tr th:only-of-type {\n",
       "        vertical-align: middle;\n",
       "    }\n",
       "\n",
       "    .dataframe tbody tr th {\n",
       "        vertical-align: top;\n",
       "    }\n",
       "\n",
       "    .dataframe thead th {\n",
       "        text-align: right;\n",
       "    }\n",
       "</style>\n",
       "<table border=\"1\" class=\"dataframe\">\n",
       "  <thead>\n",
       "    <tr style=\"text-align: right;\">\n",
       "      <th></th>\n",
       "      <th>EmpName</th>\n",
       "      <th>Dept</th>\n",
       "      <th>Salary</th>\n",
       "    </tr>\n",
       "  </thead>\n",
       "  <tbody>\n",
       "    <tr>\n",
       "      <th>0</th>\n",
       "      <td>Emp1</td>\n",
       "      <td>Team1</td>\n",
       "      <td>25000</td>\n",
       "    </tr>\n",
       "    <tr>\n",
       "      <th>1</th>\n",
       "      <td>Emp2</td>\n",
       "      <td>Team1</td>\n",
       "      <td>32500</td>\n",
       "    </tr>\n",
       "    <tr>\n",
       "      <th>2</th>\n",
       "      <td>Emp3</td>\n",
       "      <td>Team1</td>\n",
       "      <td>18000</td>\n",
       "    </tr>\n",
       "    <tr>\n",
       "      <th>3</th>\n",
       "      <td>Emp4</td>\n",
       "      <td>Team1</td>\n",
       "      <td>20000</td>\n",
       "    </tr>\n",
       "  </tbody>\n",
       "</table>\n",
       "</div>"
      ],
      "text/plain": [
       "  EmpName   Dept  Salary\n",
       "0    Emp1  Team1   25000\n",
       "1    Emp2  Team1   32500\n",
       "2    Emp3  Team1   18000\n",
       "3    Emp4  Team1   20000"
      ]
     },
     "metadata": {},
     "output_type": "display_data"
    },
    {
     "data": {
      "text/html": [
       "<div>\n",
       "<style scoped>\n",
       "    .dataframe tbody tr th:only-of-type {\n",
       "        vertical-align: middle;\n",
       "    }\n",
       "\n",
       "    .dataframe tbody tr th {\n",
       "        vertical-align: top;\n",
       "    }\n",
       "\n",
       "    .dataframe thead th {\n",
       "        text-align: right;\n",
       "    }\n",
       "</style>\n",
       "<table border=\"1\" class=\"dataframe\">\n",
       "  <thead>\n",
       "    <tr style=\"text-align: right;\">\n",
       "      <th></th>\n",
       "      <th>EmpName</th>\n",
       "      <th>Dept</th>\n",
       "      <th>Salary</th>\n",
       "    </tr>\n",
       "  </thead>\n",
       "  <tbody>\n",
       "    <tr>\n",
       "      <th>4</th>\n",
       "      <td>Emp5</td>\n",
       "      <td>Team2</td>\n",
       "      <td>85000</td>\n",
       "    </tr>\n",
       "    <tr>\n",
       "      <th>5</th>\n",
       "      <td>Emp6</td>\n",
       "      <td>Team2</td>\n",
       "      <td>85000</td>\n",
       "    </tr>\n",
       "    <tr>\n",
       "      <th>6</th>\n",
       "      <td>Emp7</td>\n",
       "      <td>Team2</td>\n",
       "      <td>70000</td>\n",
       "    </tr>\n",
       "  </tbody>\n",
       "</table>\n",
       "</div>"
      ],
      "text/plain": [
       "  EmpName   Dept  Salary\n",
       "4    Emp5  Team2   85000\n",
       "5    Emp6  Team2   85000\n",
       "6    Emp7  Team2   70000"
      ]
     },
     "metadata": {},
     "output_type": "display_data"
    },
    {
     "data": {
      "text/html": [
       "<div>\n",
       "<style scoped>\n",
       "    .dataframe tbody tr th:only-of-type {\n",
       "        vertical-align: middle;\n",
       "    }\n",
       "\n",
       "    .dataframe tbody tr th {\n",
       "        vertical-align: top;\n",
       "    }\n",
       "\n",
       "    .dataframe thead th {\n",
       "        text-align: right;\n",
       "    }\n",
       "</style>\n",
       "<table border=\"1\" class=\"dataframe\">\n",
       "  <thead>\n",
       "    <tr style=\"text-align: right;\">\n",
       "      <th></th>\n",
       "      <th>min</th>\n",
       "      <th>max</th>\n",
       "      <th>sum</th>\n",
       "    </tr>\n",
       "    <tr>\n",
       "      <th>Dept</th>\n",
       "      <th></th>\n",
       "      <th></th>\n",
       "      <th></th>\n",
       "    </tr>\n",
       "  </thead>\n",
       "  <tbody>\n",
       "    <tr>\n",
       "      <th>Team1</th>\n",
       "      <td>18000</td>\n",
       "      <td>32500</td>\n",
       "      <td>95500</td>\n",
       "    </tr>\n",
       "    <tr>\n",
       "      <th>Team2</th>\n",
       "      <td>70000</td>\n",
       "      <td>85000</td>\n",
       "      <td>240000</td>\n",
       "    </tr>\n",
       "  </tbody>\n",
       "</table>\n",
       "</div>"
      ],
      "text/plain": [
       "         min    max     sum\n",
       "Dept                       \n",
       "Team1  18000  32500   95500\n",
       "Team2  70000  85000  240000"
      ]
     },
     "metadata": {},
     "output_type": "display_data"
    }
   ],
   "source": [
    "my_df = {\"EmpName\" : [\"Emp1\", \"Emp2\", \"Emp3\", \"Emp4\",\n",
    "                                     \"Emp5\", \"Emp6\", \"Emp7\"],\n",
    "               \"Dept\" : [\"Team1\", \"Team1\", \"Team1\", \"Team1\",\n",
    "                             \"Team2\", \"Team2\", \"Team2\"],\n",
    "               \"Salary\" : [25000,32500,18000,20000,\n",
    "                               85000,85000,70000]}\n",
    "df = pd.DataFrame(data=my_df)\n",
    "print(df)\n",
    "group_data = df.groupby(\"Dept\")\n",
    "display(group_data.get_group(\"Team1\"))\n",
    "display(group_data.get_group(\"Team2\"))\n",
    "display(df.groupby(\"Dept\")[\"Salary\"].agg([min,max,sum]))"
   ]
  },
  {
   "cell_type": "code",
   "execution_count": 71,
   "metadata": {},
   "outputs": [
    {
     "data": {
      "text/html": [
       "<div>\n",
       "<style scoped>\n",
       "    .dataframe tbody tr th:only-of-type {\n",
       "        vertical-align: middle;\n",
       "    }\n",
       "\n",
       "    .dataframe tbody tr th {\n",
       "        vertical-align: top;\n",
       "    }\n",
       "\n",
       "    .dataframe thead tr th {\n",
       "        text-align: left;\n",
       "    }\n",
       "\n",
       "    .dataframe thead tr:last-of-type th {\n",
       "        text-align: right;\n",
       "    }\n",
       "</style>\n",
       "<table border=\"1\" class=\"dataframe\">\n",
       "  <thead>\n",
       "    <tr>\n",
       "      <th></th>\n",
       "      <th colspan=\"2\" halign=\"left\">Bonus</th>\n",
       "      <th>Salary</th>\n",
       "    </tr>\n",
       "    <tr>\n",
       "      <th></th>\n",
       "      <th>min</th>\n",
       "      <th>max</th>\n",
       "      <th>sum</th>\n",
       "    </tr>\n",
       "    <tr>\n",
       "      <th>Dept</th>\n",
       "      <th></th>\n",
       "      <th></th>\n",
       "      <th></th>\n",
       "    </tr>\n",
       "  </thead>\n",
       "  <tbody>\n",
       "    <tr>\n",
       "      <th>Team1</th>\n",
       "      <td>1</td>\n",
       "      <td>2</td>\n",
       "      <td>95500</td>\n",
       "    </tr>\n",
       "    <tr>\n",
       "      <th>Team2</th>\n",
       "      <td>2</td>\n",
       "      <td>3</td>\n",
       "      <td>240000</td>\n",
       "    </tr>\n",
       "  </tbody>\n",
       "</table>\n",
       "</div>"
      ],
      "text/plain": [
       "      Bonus      Salary\n",
       "        min max     sum\n",
       "Dept                   \n",
       "Team1     1   2   95500\n",
       "Team2     2   3  240000"
      ]
     },
     "metadata": {},
     "output_type": "display_data"
    }
   ],
   "source": [
    "my_df = {\"EmpName\" : [\"Emp1\", \"Emp2\", \"Emp3\", \"Emp4\",\n",
    "                                     \"Emp5\", \"Emp6\", \"Emp7\"],\n",
    "               \"Dept\" : [\"Team1\", \"Team1\", \"Team1\", \"Team1\",\n",
    "                             \"Team2\", \"Team2\", \"Team2\"],\n",
    "               \"Salary\" : [25000,32500,18000,20000,\n",
    "                               85000,85000,70000],\n",
    "               \"Bonus\" : [\"1\", \"1.5\", \"1\", \"2\",\n",
    "                               \"2\", \"2.5\", \"3\"]}\n",
    "df = pd.DataFrame(data=my_df)\n",
    "display(df.groupby(\"Dept\").agg({\"Bonus\" : [\"min\",\"max\"],\n",
    "                                                             \"Salary\" : \"sum\"}))"
   ]
  },
  {
   "cell_type": "code",
   "execution_count": 72,
   "metadata": {},
   "outputs": [
    {
     "data": {
      "text/html": [
       "<div>\n",
       "<style scoped>\n",
       "    .dataframe tbody tr th:only-of-type {\n",
       "        vertical-align: middle;\n",
       "    }\n",
       "\n",
       "    .dataframe tbody tr th {\n",
       "        vertical-align: top;\n",
       "    }\n",
       "\n",
       "    .dataframe thead th {\n",
       "        text-align: right;\n",
       "    }\n",
       "</style>\n",
       "<table border=\"1\" class=\"dataframe\">\n",
       "  <thead>\n",
       "    <tr style=\"text-align: right;\">\n",
       "      <th></th>\n",
       "      <th></th>\n",
       "      <th>sales</th>\n",
       "    </tr>\n",
       "    <tr>\n",
       "      <th>branch</th>\n",
       "      <th>product</th>\n",
       "      <th></th>\n",
       "    </tr>\n",
       "  </thead>\n",
       "  <tbody>\n",
       "    <tr>\n",
       "      <th rowspan=\"5\" valign=\"top\">Donmueng</th>\n",
       "      <th>Americano</th>\n",
       "      <td>20</td>\n",
       "    </tr>\n",
       "    <tr>\n",
       "      <th>Cocao</th>\n",
       "      <td>54</td>\n",
       "    </tr>\n",
       "    <tr>\n",
       "      <th>GreenTea</th>\n",
       "      <td>35</td>\n",
       "    </tr>\n",
       "    <tr>\n",
       "      <th>Latte</th>\n",
       "      <td>44</td>\n",
       "    </tr>\n",
       "    <tr>\n",
       "      <th>ThaiTea</th>\n",
       "      <td>23</td>\n",
       "    </tr>\n",
       "    <tr>\n",
       "      <th rowspan=\"3\" valign=\"top\">Praram2</th>\n",
       "      <th>Espresso</th>\n",
       "      <td>40</td>\n",
       "    </tr>\n",
       "    <tr>\n",
       "      <th>Latte</th>\n",
       "      <td>15</td>\n",
       "    </tr>\n",
       "    <tr>\n",
       "      <th>Mocha</th>\n",
       "      <td>38</td>\n",
       "    </tr>\n",
       "    <tr>\n",
       "      <th rowspan=\"4\" valign=\"top\">Praram9</th>\n",
       "      <th>Americano</th>\n",
       "      <td>10</td>\n",
       "    </tr>\n",
       "    <tr>\n",
       "      <th>GreenTea</th>\n",
       "      <td>33</td>\n",
       "    </tr>\n",
       "    <tr>\n",
       "      <th>Mocha</th>\n",
       "      <td>20</td>\n",
       "    </tr>\n",
       "    <tr>\n",
       "      <th>ThaiTea</th>\n",
       "      <td>45</td>\n",
       "    </tr>\n",
       "  </tbody>\n",
       "</table>\n",
       "</div>"
      ],
      "text/plain": [
       "                    sales\n",
       "branch   product         \n",
       "Donmueng Americano     20\n",
       "         Cocao         54\n",
       "         GreenTea      35\n",
       "         Latte         44\n",
       "         ThaiTea       23\n",
       "Praram2  Espresso      40\n",
       "         Latte         15\n",
       "         Mocha         38\n",
       "Praram9  Americano     10\n",
       "         GreenTea      33\n",
       "         Mocha         20\n",
       "         ThaiTea       45"
      ]
     },
     "metadata": {},
     "output_type": "display_data"
    }
   ],
   "source": [
    "df = pd.read_csv(\"coffeeshop.csv\")\n",
    "group_data = df.groupby([\"branch\",\"product\"])\n",
    "display(group_data.sum())"
   ]
  },
  {
   "cell_type": "code",
   "execution_count": 73,
   "metadata": {},
   "outputs": [
    {
     "data": {
      "text/html": [
       "<div>\n",
       "<style scoped>\n",
       "    .dataframe tbody tr th:only-of-type {\n",
       "        vertical-align: middle;\n",
       "    }\n",
       "\n",
       "    .dataframe tbody tr th {\n",
       "        vertical-align: top;\n",
       "    }\n",
       "\n",
       "    .dataframe thead th {\n",
       "        text-align: right;\n",
       "    }\n",
       "</style>\n",
       "<table border=\"1\" class=\"dataframe\">\n",
       "  <thead>\n",
       "    <tr style=\"text-align: right;\">\n",
       "      <th></th>\n",
       "      <th></th>\n",
       "      <th>sales</th>\n",
       "    </tr>\n",
       "    <tr>\n",
       "      <th>branch</th>\n",
       "      <th>type</th>\n",
       "      <th></th>\n",
       "    </tr>\n",
       "  </thead>\n",
       "  <tbody>\n",
       "    <tr>\n",
       "      <th rowspan=\"2\" valign=\"top\">Donmueng</th>\n",
       "      <th>Cold</th>\n",
       "      <td>114</td>\n",
       "    </tr>\n",
       "    <tr>\n",
       "      <th>Hot</th>\n",
       "      <td>62</td>\n",
       "    </tr>\n",
       "    <tr>\n",
       "      <th rowspan=\"2\" valign=\"top\">Praram2</th>\n",
       "      <th>Cold</th>\n",
       "      <td>56</td>\n",
       "    </tr>\n",
       "    <tr>\n",
       "      <th>Hot</th>\n",
       "      <td>37</td>\n",
       "    </tr>\n",
       "    <tr>\n",
       "      <th rowspan=\"2\" valign=\"top\">Praram9</th>\n",
       "      <th>Cold</th>\n",
       "      <td>10</td>\n",
       "    </tr>\n",
       "    <tr>\n",
       "      <th>Hot</th>\n",
       "      <td>98</td>\n",
       "    </tr>\n",
       "  </tbody>\n",
       "</table>\n",
       "</div>"
      ],
      "text/plain": [
       "               sales\n",
       "branch   type       \n",
       "Donmueng Cold    114\n",
       "         Hot      62\n",
       "Praram2  Cold     56\n",
       "         Hot      37\n",
       "Praram9  Cold     10\n",
       "         Hot      98"
      ]
     },
     "metadata": {},
     "output_type": "display_data"
    }
   ],
   "source": [
    "group_data = df.groupby([\"branch\",\"type\"])\n",
    "display(group_data.sum())"
   ]
  },
  {
   "cell_type": "code",
   "execution_count": 74,
   "metadata": {},
   "outputs": [
    {
     "name": "stdout",
     "output_type": "stream",
     "text": [
      "ผลบวก คือ  [12 23 34 45 56]\n",
      "ผลลบ คือ  [ 8 17 26 35 44]\n",
      "ผลคูณ คือ  [ 20  60 120 200 300]\n",
      "ผลหาร คือ \n",
      "0    5.000000\n",
      "1    6.666667\n",
      "2    7.500000\n",
      "3    8.000000\n",
      "4    8.333333\n",
      "dtype: float64\n",
      "เศษจากการหาร คือ  [0 2 2 0 2]\n"
     ]
    }
   ],
   "source": [
    "s1 = pd.Series([10,20,30,40,50])\n",
    "s2 = pd.Series([2,3,4,5,6])\n",
    "print(\"ผลบวก คือ \",s1.add(s2).values)\n",
    "print(\"ผลลบ คือ \",s1.sub(s2).values)\n",
    "print(\"ผลคูณ คือ \",s1.multiply(s2).values)\n",
    "print(\"ผลหาร คือ \")\n",
    "print(s1.div(s2))\n",
    "print(\"เศษจากการหาร คือ \",s1.mod(s2).values)"
   ]
  },
  {
   "cell_type": "code",
   "execution_count": 75,
   "metadata": {},
   "outputs": [
    {
     "name": "stdout",
     "output_type": "stream",
     "text": [
      "ค่าสัมบูรณ์ของข้อมูล คือ  [ 2  4  6  8 10]\n",
      "เมื่อนำข้อมูลมายกกำลังสองจะได้ค่าดังนี้ [  4  16  36  64 100]\n",
      "ค่า mean ของข้อมูล คือ  2.0\n",
      "ค่า median ของข้อมูล คือ  4.0\n",
      "ค่า standard ของข้อมูล คือ  7.0710678118654755\n"
     ]
    }
   ],
   "source": [
    "s1 = pd.Series([-2,4,6,-8,10])\n",
    "print(\"ค่าสัมบูรณ์ของข้อมูล คือ \",s1.abs().values)\n",
    "print(\"เมื่อนำข้อมูลมายกกำลังสองจะได้ค่าดังนี้\",s1.pow(2).values)\n",
    "print(\"ค่า mean ของข้อมูล คือ \",s1.mean())\n",
    "print(\"ค่า median ของข้อมูล คือ \",s1.median())\n",
    "print(\"ค่า standard ของข้อมูล คือ \",s1.std())"
   ]
  },
  {
   "cell_type": "code",
   "execution_count": 76,
   "metadata": {},
   "outputs": [
    {
     "name": "stdout",
     "output_type": "stream",
     "text": [
      "คะแนนทุกวิชาเกิน 70 คะแนนใช่หรือไม่?:  False\n",
      "คะแนนบางวิชาเกิน 70 คะแนนใช่หรือไม่?:  True\n"
     ]
    }
   ],
   "source": [
    "score = pd.Series([80,79,65,90,89,75,60])\n",
    "print(\"คะแนนทุกวิชาเกิน 70 คะแนนใช่หรือไม่?: \",(score>70).all())\n",
    "print(\"คะแนนบางวิชาเกิน 70 คะแนนใช่หรือไม่?: \",(score>70).any())"
   ]
  },
  {
   "cell_type": "code",
   "execution_count": 77,
   "metadata": {},
   "outputs": [
    {
     "name": "stdout",
     "output_type": "stream",
     "text": [
      "ข้อมูลอยู่ระหว่าง 10-30 ใช่หรือไม่?:\n",
      "0     True\n",
      "1    False\n",
      "2    False\n",
      "dtype: bool\n",
      "ตัดช่วงข้อมูลให้อยู่ระหว่าง 20-30\n",
      "0    20\n",
      "1    30\n",
      "2    30\n",
      "dtype: int64\n",
      "หาความแตกต่างระหว่างข้อมูลแต่ละตัวใน Series s\n",
      "0     NaN\n",
      "1    20.0\n",
      "2    20.0\n",
      "dtype: float64\n",
      "ใช้เมธอด count() นับจำนวนข้อมูลได้ :  2\n"
     ]
    }
   ],
   "source": [
    "s = pd.Series([20,40,60])\n",
    "print(\"ข้อมูลอยู่ระหว่าง 10-30 ใช่หรือไม่?:\")\n",
    "print(s.between(10,30))\n",
    "print(\"ตัดช่วงข้อมูลให้อยู่ระหว่าง 20-30\")\n",
    "print(s.clip(20,30))\n",
    "print(\"หาความแตกต่างระหว่างข้อมูลแต่ละตัวใน Series s\")\n",
    "print(s.diff())\n",
    "print(\"ใช้เมธอด count() นับจำนวนข้อมูลได้ : \",s.diff().count())"
   ]
  },
  {
   "cell_type": "code",
   "execution_count": 78,
   "metadata": {},
   "outputs": [
    {
     "name": "stdout",
     "output_type": "stream",
     "text": [
      "0           Elsa\n",
      "1      ShowWhite\n",
      "2    Cinederella\n",
      "3          Moana\n",
      "4          Mulan\n",
      "dtype: object\n",
      "0     Elsa Princess\n",
      "1               NaN\n",
      "2               NaN\n",
      "3    Moana Princess\n",
      "4               NaN\n",
      "dtype: object\n"
     ]
    }
   ],
   "source": [
    "s = pd.Series([\"Elsa\",\"ShowWhite\",\"Cinederella\",\"Moana\",\"Mulan\"])\n",
    "print(s)\n",
    "print(s.map({\"Elsa\": \"Elsa Princess\",\n",
    "                   \"Moana\": \"Moana Princess\"}))"
   ]
  },
  {
   "cell_type": "code",
   "execution_count": 79,
   "metadata": {},
   "outputs": [
    {
     "name": "stdout",
     "output_type": "stream",
     "text": [
      "ใช้ฟังก์ชัน drop_duplicates แสดงรายชื่อสัตว์ได้ดังนี้ : \n",
      "0    monkey\n",
      "1      bird\n",
      "2       ant\n",
      "5       bee\n",
      "6     horse\n",
      "dtype: object\n",
      "\n",
      "ใช้ฟังก์ชัน unique แสดงรายชื่อสัตว์ได้ดังนี้ :  ['monkey' 'bird' 'ant' 'bee' 'horse']\n"
     ]
    }
   ],
   "source": [
    "animals = pd.Series([\"monkey\",\"bird\",\"ant\",\"bird\",\"monkey\",\"bee\",\"horse\"])\n",
    "print(\"ใช้ฟังก์ชัน drop_duplicates แสดงรายชื่อสัตว์ได้ดังนี้ : \")\n",
    "print(animals.drop_duplicates()) #เหมือน unique ต่างที่แสดง index, dtype\n",
    "print()\n",
    "print(\"ใช้ฟังก์ชัน unique แสดงรายชื่อสัตว์ได้ดังนี้ : \",animals.unique())"
   ]
  },
  {
   "cell_type": "code",
   "execution_count": 80,
   "metadata": {},
   "outputs": [
    {
     "name": "stdout",
     "output_type": "stream",
     "text": [
      "0    bunny\n",
      "1      NaN\n",
      "2    puppy\n",
      "dtype: object\n",
      "ตรวจสอบข้อมูลแต่ละตัวใน series ว่าเป็นค่า NaN ใช่หรือไม่\n",
      "[False  True False]\n",
      "ตรวจสอบข้อมูลแต่ละตัวใน series ว่าไม่เป็นค่า NaN ใช่หรือไม่\n",
      "[ True False  True]\n",
      "\n",
      "เรียกฟังก์ชัน dropna แล้ว ข้อมูลใน Series คือ  ['bunny' 'puppy']\n",
      "เรียกฟังก์ชัน fillna แล้ว ข้อมูลใน Series คือ  ['bunny' '-' 'puppy']\n"
     ]
    }
   ],
   "source": [
    "myseries = pd.Series([\"rabbit\",\"cat\",\"dog\"])\n",
    "s1 = myseries.map({\"rabbit\":\"bunny\",\"dog\":\"puppy\"})\n",
    "print(s1)\n",
    "print(\"ตรวจสอบข้อมูลแต่ละตัวใน series ว่าเป็นค่า NaN ใช่หรือไม่\")\n",
    "print(s1.isna().values)\n",
    "print(\"ตรวจสอบข้อมูลแต่ละตัวใน series ว่าไม่เป็นค่า NaN ใช่หรือไม่\")\n",
    "print(s1.notna().values)\n",
    "print()\n",
    "print(\"เรียกฟังก์ชัน dropna แล้ว ข้อมูลใน Series คือ \",s1.dropna().values)\n",
    "print(\"เรียกฟังก์ชัน fillna แล้ว ข้อมูลใน Series คือ \",s1.fillna(\"-\").values)"
   ]
  },
  {
   "cell_type": "code",
   "execution_count": 81,
   "metadata": {},
   "outputs": [
    {
     "name": "stdout",
     "output_type": "stream",
     "text": [
      "ข้อมูลที่มีค่ามากที่สุดอยู่ตำแหน่งที่  4\n",
      "ข้อมูลที่มีค่าน้อยที่สุดอยู่ตำแหน่งที่  3\n"
     ]
    }
   ],
   "source": [
    "s1 = pd.Series([25,39,18,8,90,25,8,90])\n",
    "print(\"ข้อมูลที่มีค่ามากที่สุดอยู่ตำแหน่งที่ \", s1.idxmax())\n",
    "print(\"ข้อมูลที่มีค่าน้อยที่สุดอยู่ตำแหน่งที่ \", s1.idxmin())"
   ]
  },
  {
   "cell_type": "code",
   "execution_count": 82,
   "metadata": {},
   "outputs": [
    {
     "name": "stdout",
     "output_type": "stream",
     "text": [
      "K          Kiwi\n",
      "S    Strawberry\n",
      "B        Banana\n",
      "G         Grape\n",
      "A         Apple\n",
      "dtype: object\n",
      "reindex\n",
      "C            --\n",
      "A         Apple\n",
      "G         Grape\n",
      "B        Banana\n",
      "S    Strawberry\n",
      "dtype: object\n",
      "============\n",
      "rename\n",
      "C             --\n",
      "AA         Apple\n",
      "G          Grape\n",
      "B         Banana\n",
      "SS    Strawberry\n",
      "dtype: object\n",
      "============\n",
      "reset index, drop=False\n",
      "  index           0\n",
      "0     C          --\n",
      "1    AA       Apple\n",
      "2     G       Grape\n",
      "3     B      Banana\n",
      "4    SS  Strawberry\n",
      "============\n",
      "reset index, drop=True\n",
      "0            --\n",
      "1         Apple\n",
      "2         Grape\n",
      "3        Banana\n",
      "4    Strawberry\n",
      "dtype: object\n"
     ]
    }
   ],
   "source": [
    "data = np.array([\"Kiwi\",\"Strawberry\",\"Banana\",\n",
    "                         \"Grape\",\"Apple\"])\n",
    "series = pd.Series(data, index=[\"K\",\"S\",\"B\",\"G\",\"A\"])\n",
    "print(series)\n",
    "print(\"reindex\")\n",
    "series = series.reindex([\"C\",\"A\",\"G\",\"B\",\"S\"],fill_value = \"--\")\n",
    "print(series)\n",
    "print(\"============\")\n",
    "print(\"rename\")\n",
    "series = series.rename(index={\"A\":\"AA\",\"S\":\"SS\"})\n",
    "print(series)\n",
    "print(\"============\")\n",
    "print(\"reset index, drop=False\")\n",
    "my_series = series.reset_index() #reset index แล้วแต่ index เดิมยังไม่ลบออก\n",
    "print(my_series)\n",
    "print(\"============\")\n",
    "print(\"reset index, drop=True\")\n",
    "series.reset_index(drop=True,inplace=True) #reset index แล้วแต่ index เดิมลบออก\n",
    "print(series)"
   ]
  },
  {
   "cell_type": "code",
   "execution_count": 83,
   "metadata": {},
   "outputs": [
    {
     "name": "stdout",
     "output_type": "stream",
     "text": [
      "ฟังก์ชัน add()\n",
      "   col1  col2\n",
      "0     2     5\n",
      "1     3     6\n",
      "2     4     7\n",
      "==========\n",
      "ฟังก์ชัน pow()\n",
      "   col1  col2\n",
      "0     1    16\n",
      "1     4    25\n",
      "2     9    36\n",
      "==========\n",
      "ฟังก์ชัน div()\n",
      "   col1  col2\n",
      "0   0.5   2.0\n",
      "1   1.0   2.5\n",
      "2   1.5   3.0\n",
      "==========\n",
      "ฟังก์ชัน floordiv()\n",
      "   col1  col2\n",
      "0     0     2\n",
      "1     1     2\n",
      "2     1     3\n"
     ]
    }
   ],
   "source": [
    "df = pd.DataFrame({\"col1\":[1,2,3],\n",
    "                              \"col2\":[4,5,6]})\n",
    "print(\"ฟังก์ชัน add()\")\n",
    "print(df.add(1))\n",
    "print(\"==========\")\n",
    "print(\"ฟังก์ชัน pow()\")\n",
    "print(df.pow(2))\n",
    "print(\"==========\")\n",
    "print(\"ฟังก์ชัน div()\")\n",
    "print(df.div(2))\n",
    "print(\"==========\")\n",
    "print(\"ฟังก์ชัน floordiv()\")\n",
    "print(df.floordiv(2)) #หารแล้วปัดเศษลง"
   ]
  },
  {
   "cell_type": "code",
   "execution_count": 84,
   "metadata": {},
   "outputs": [
    {
     "name": "stdout",
     "output_type": "stream",
     "text": [
      "  MyPlayer   MyTeam MyScore\n",
      "A  Player1      ABC     256\n",
      "B  Player2  SkyBlue     320\n",
      "C  Player3      ABC     185\n",
      "==========\n",
      "   Player_    Team_ Score_\n",
      "A  Player1      ABC    256\n",
      "B  Player2  SkyBlue    320\n",
      "C  Player3      ABC    185\n",
      "==========\n",
      "Player    object\n",
      "Team      object\n",
      "Score      int64\n",
      "dtype: object\n"
     ]
    }
   ],
   "source": [
    "my_df = np.array([[\"Player1\",\"ABC\",256],\n",
    "                            [\"Player2\",\"SkyBlue\",320],\n",
    "                            [\"Player3\",\"ABC\",185]])\n",
    "df = pd.DataFrame(data=my_df,columns=[\"Player\",\"Team\",\"Score\"],index=[\"A\",\"B\",\"C\"])\n",
    "print(df.add_prefix(\"My\"))\n",
    "print(\"==========\")\n",
    "print(df.add_suffix(\"_\"))\n",
    "print(\"==========\")\n",
    "df.Score = df.Score.astype('int64')\n",
    "print(df.dtypes)"
   ]
  },
  {
   "cell_type": "code",
   "execution_count": 85,
   "metadata": {},
   "outputs": [
    {
     "name": "stdout",
     "output_type": "stream",
     "text": [
      "   A  B\n",
      "0  0  1\n",
      "1  2  6\n",
      "     A    B\n",
      "0  1.0  5.0\n",
      "1  5.0  8.0\n"
     ]
    }
   ],
   "source": [
    "df1 = pd.DataFrame({\"A\":[0,5], \"B\":[1,8]})\n",
    "df2 = pd.DataFrame({\"A\":[1,2], \"B\":[3,6]})\n",
    "my_df = df1.combine(df2,np.minimum) #รวมโดยเลือกตัวน้อยสุด\n",
    "print(my_df)\n",
    "df3 = pd.DataFrame({\"A\":[np.NaN,5], \"B\":[np.nan,8]})\n",
    "df4 = pd.DataFrame({\"A\":[1,3], \"B\":[5,7]})\n",
    "my_df = df3.combine_first(df4) #รวมโดยเลือกตัวแรก ถ้าเป็น NaN ให้เอาตัวถัดไปมาแทน\n",
    "print(my_df)"
   ]
  },
  {
   "cell_type": "code",
   "execution_count": 86,
   "metadata": {},
   "outputs": [
    {
     "name": "stdout",
     "output_type": "stream",
     "text": [
      "copy with deep=True\n",
      "old dataframe\n",
      "   A  B\n",
      "0  0  1\n",
      "1  5  8\n",
      "new dataframe\n",
      "    A  B\n",
      "0  10  1\n",
      "1   5  8\n",
      "\n",
      "copy with deep=False\n",
      "old dataframe\n",
      "    A  B\n",
      "0  10  1\n",
      "1   5  8\n",
      "new dataframe\n",
      "    A  B\n",
      "0  10  1\n",
      "1   5  8\n"
     ]
    }
   ],
   "source": [
    "df = pd.DataFrame({\"A\":[0,5],\"B\":[1,8]})\n",
    "my_df = df.copy()\n",
    "my_df.iat[0,0] = 10\n",
    "print(\"copy with deep=True\")\n",
    "print(\"old dataframe\")\n",
    "print(df)\n",
    "print(\"new dataframe\")\n",
    "print(my_df)\n",
    "print()\n",
    "my_df2 = df.copy(deep=False) \n",
    "my_df2.iat[0,0] = 10 #เมื่อเปลี่ยนข้อมูล ข้อมูลเก่าเปลี่ยนด้วย เพราะ deep=False\n",
    "print(\"copy with deep=False\")\n",
    "print(\"old dataframe\")\n",
    "print(df)\n",
    "print(\"new dataframe\")\n",
    "print(my_df2)"
   ]
  },
  {
   "cell_type": "code",
   "execution_count": 87,
   "metadata": {},
   "outputs": [
    {
     "name": "stdout",
     "output_type": "stream",
     "text": [
      "              A         B\n",
      "count  2.000000  2.000000\n",
      "mean   2.500000  4.500000\n",
      "std    3.535534  4.949747\n",
      "min    0.000000  1.000000\n",
      "25%    1.250000  2.750000\n",
      "50%    2.500000  4.500000\n",
      "75%    3.750000  6.250000\n",
      "max    5.000000  8.000000\n",
      "            A          B\n",
      "count       3          3\n",
      "unique      2          3\n",
      "top     Apple  Blueberry\n",
      "freq        2          1\n"
     ]
    }
   ],
   "source": [
    "df =  pd.DataFrame({\"A\":[0,5],\"B\":[1,8]})\n",
    "df2 = pd.DataFrame({\"A\":[\"Apple\",\"Apple\",\"Apricot\"],\n",
    "                                \"B\":[\"Banana\",\"Blueberry\",\"Blackberry\"]})\n",
    "print(df.describe()) #ข้อมูลเป็นตัวเลข\n",
    "print(df2.describe()) #ข้อมูลเป็นสตริง"
   ]
  },
  {
   "cell_type": "code",
   "execution_count": 88,
   "metadata": {},
   "outputs": [
    {
     "name": "stdout",
     "output_type": "stream",
     "text": [
      "        col1  col2  col3\n",
      "idx1      10    20    30\n",
      "index2    40    50    60\n",
      "        col1  col3\n",
      "idx1      10    30\n",
      "index2    40    60\n",
      "        col1  col2  col3\n",
      "index2    40    50    60\n"
     ]
    }
   ],
   "source": [
    "df = pd.DataFrame(np.array(([10,20,30],[40,50,60])),index=[\"idx1\",\"index2\"],columns=[\"col1\",\"col2\",\"col3\"])\n",
    "print(df)\n",
    "# fillter by column name\n",
    "print(df.filter(items=[\"col1\",\"col3\"]))\n",
    "# filter by index name\n",
    "print(df.filter(like=\"in\",axis=0))"
   ]
  },
  {
   "cell_type": "code",
   "execution_count": null,
   "metadata": {},
   "outputs": [],
   "source": []
  }
 ],
 "metadata": {
  "kernelspec": {
   "display_name": "Python 3",
   "language": "python",
   "name": "python3"
  },
  "language_info": {
   "codemirror_mode": {
    "name": "ipython",
    "version": 3
   },
   "file_extension": ".py",
   "mimetype": "text/x-python",
   "name": "python",
   "nbconvert_exporter": "python",
   "pygments_lexer": "ipython3",
   "version": "3.8.5"
  }
 },
 "nbformat": 4,
 "nbformat_minor": 4
}
