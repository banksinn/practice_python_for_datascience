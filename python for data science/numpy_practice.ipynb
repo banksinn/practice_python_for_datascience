{
 "cells": [
  {
   "cell_type": "code",
   "execution_count": 2,
   "metadata": {},
   "outputs": [
    {
     "name": "stdout",
     "output_type": "stream",
     "text": [
      "[1 2 3 4]\n",
      "[1 2 3 4]\n"
     ]
    }
   ],
   "source": [
    "import numpy as np\n",
    "a = np.array((1,2,3,4))\n",
    "list_a = [1,2,3,4]\n",
    "b = np.array(list_a)\n",
    "print(a)\n",
    "print(b)"
   ]
  },
  {
   "cell_type": "code",
   "execution_count": 6,
   "metadata": {},
   "outputs": [
    {
     "name": "stdout",
     "output_type": "stream",
     "text": [
      "[[ 1  2  3]\n",
      " [10 20 30]]\n",
      "['a' 'b' 'c']\n",
      "[[1.5 3. ]\n",
      " [2.  5. ]\n",
      " [3.5 7. ]]\n"
     ]
    }
   ],
   "source": [
    "a = np.array([[1,2,3],[10,20,30]])\n",
    "b = np.array(('a','b','c'))\n",
    "c = np.array([[1.5,3],[2,5],(3.5,7.)])\n",
    "print(a)\n",
    "print(b)\n",
    "print(c)"
   ]
  },
  {
   "cell_type": "code",
   "execution_count": 9,
   "metadata": {},
   "outputs": [
    {
     "name": "stdout",
     "output_type": "stream",
     "text": [
      "[[0. 0. 0.]\n",
      " [0. 0. 0.]\n",
      " [0. 0. 0.]]\n",
      "[[1. 1. 1. 1. 1.]\n",
      " [1. 1. 1. 1. 1.]]\n"
     ]
    }
   ],
   "source": [
    "a = np.zeros((3,3))\n",
    "b = np.ones((2,5))\n",
    "print(a)\n",
    "print(b)"
   ]
  },
  {
   "cell_type": "code",
   "execution_count": 18,
   "metadata": {},
   "outputs": [
    {
     "name": "stdout",
     "output_type": "stream",
     "text": [
      "<class 'numpy.ndarray'>\n",
      "[[0 0 0]\n",
      " [0 0 0]\n",
      " [0 0 0]]\n"
     ]
    }
   ],
   "source": [
    "a = np.zeros((3,3),dtype=int)\n",
    "print(type(a))\n",
    "print(a)"
   ]
  },
  {
   "cell_type": "code",
   "execution_count": 17,
   "metadata": {},
   "outputs": [
    {
     "name": "stdout",
     "output_type": "stream",
     "text": [
      "<class 'numpy.ndarray'>\n",
      "[[5 5 5]\n",
      " [5 5 5]\n",
      " [5 5 5]]\n"
     ]
    }
   ],
   "source": [
    "a = np.full((3,3),5.0,dtype=int)\n",
    "print(type(a))\n",
    "print(a)"
   ]
  },
  {
   "cell_type": "code",
   "execution_count": 22,
   "metadata": {},
   "outputs": [
    {
     "name": "stdout",
     "output_type": "stream",
     "text": [
      "<class 'numpy.ndarray'>\n",
      "[0 1 2 3 4 5 6 7 8 9]\n",
      "[1. 3. 5. 7. 9.]\n"
     ]
    }
   ],
   "source": [
    "a = np.arange(10) #เหมือน range ใน python\n",
    "b = np.arange(1,10,2,dtype=float)\n",
    "print(type(a))\n",
    "print(a)\n",
    "print(b)"
   ]
  },
  {
   "cell_type": "code",
   "execution_count": 20,
   "metadata": {},
   "outputs": [
    {
     "name": "stdout",
     "output_type": "stream",
     "text": [
      "[ 1.  2.  3.  4.  5.  6.  7.  8.  9. 10. 11. 12. 13. 14. 15. 16. 17. 18.\n",
      " 19. 20. 21. 22. 23. 24. 25. 26. 27. 28. 29. 30. 31. 32. 33. 34. 35. 36.\n",
      " 37. 38. 39. 40. 41. 42. 43. 44. 45. 46. 47. 48. 49. 50.]\n"
     ]
    }
   ],
   "source": [
    "a = np.linspace(1,50) #ถ้าไม่ใส่จำนวนข้อมูล default = 50 ตัว\n",
    "print(a)"
   ]
  },
  {
   "cell_type": "code",
   "execution_count": 24,
   "metadata": {},
   "outputs": [
    {
     "name": "stdout",
     "output_type": "stream",
     "text": [
      "[1 1 2 3 3 4 5]\n"
     ]
    }
   ],
   "source": [
    "a = np.linspace(1,5,7,dtype=int)\n",
    "print(a)"
   ]
  },
  {
   "cell_type": "code",
   "execution_count": 25,
   "metadata": {},
   "outputs": [
    {
     "name": "stdout",
     "output_type": "stream",
     "text": [
      "[[1. 0. 0.]\n",
      " [0. 1. 0.]\n",
      " [0. 0. 1.]]\n"
     ]
    }
   ],
   "source": [
    "a = np.eye(3) #diagonal matrix (เมตริกซ์ทแยงมุม)\n",
    "print(a)"
   ]
  },
  {
   "cell_type": "code",
   "execution_count": 37,
   "metadata": {},
   "outputs": [
    {
     "name": "stdout",
     "output_type": "stream",
     "text": [
      "[[1. 0. 0.]\n",
      " [0. 1. 0.]\n",
      " [0. 0. 1.]\n",
      " [0. 0. 0.]]\n",
      "[[0 0 1]\n",
      " [0 0 0]\n",
      " [0 0 0]\n",
      " [0 0 0]]\n"
     ]
    }
   ],
   "source": [
    "a = np.eye(4,3)\n",
    "b = np.eye(4,3,2,dtype=int) #ตัวสุดท้ายบอกตำแหน่งเริ่มต้นของค่าทแยงมุม เป็น + เริ่มที่แถวแรก เป็น - เริ่มที่หลักแรก\n",
    "print(a)\n",
    "print(b)"
   ]
  },
  {
   "cell_type": "code",
   "execution_count": 83,
   "metadata": {},
   "outputs": [
    {
     "name": "stdout",
     "output_type": "stream",
     "text": [
      "[[1. 0. 0.]\n",
      " [0. 1. 0.]\n",
      " [0. 0. 1.]]\n",
      "[[0 0 1]\n",
      " [0 0 0]\n",
      " [0 0 0]\n",
      " [0 0 0]]\n",
      "[[ 0.00000000e+000  0.00000000e+000  0.00000000e+000  0.00000000e+000]\n",
      " [ 0.00000000e+000  6.26475239e-321  0.00000000e+000 -1.14078494e-310]]\n"
     ]
    }
   ],
   "source": [
    "a = np.empty((3,3)) #สุ่มเลขตามมิติที่กำหนด\n",
    "b = np.empty((4,3),dtype=int)\n",
    "c = np.empty((2,4),dtype=float)\n",
    "print(a)\n",
    "print(b)\n",
    "print(c)"
   ]
  },
  {
   "cell_type": "code",
   "execution_count": 89,
   "metadata": {},
   "outputs": [
    {
     "name": "stdout",
     "output_type": "stream",
     "text": [
      "71\n",
      "[[66 21 72]\n",
      " [88 14 37]]\n"
     ]
    }
   ],
   "source": [
    "a = np.random.randint(100)\n",
    "b = np.random.randint(100,size=(2,3))\n",
    "print(a)\n",
    "print(b)"
   ]
  },
  {
   "cell_type": "code",
   "execution_count": 88,
   "metadata": {},
   "outputs": [
    {
     "name": "stdout",
     "output_type": "stream",
     "text": [
      "0.24014704309619572\n",
      "[[0.15102613 0.00449967 0.50206117]\n",
      " [0.93838897 0.13722057 0.50809564]]\n"
     ]
    }
   ],
   "source": [
    "a = np.random.rand() #สุ่มตั้งแต่ 0-1\n",
    "b = np.random.rand(2,3)\n",
    "print(a)\n",
    "print(b)"
   ]
  },
  {
   "cell_type": "code",
   "execution_count": 4,
   "metadata": {},
   "outputs": [
    {
     "name": "stdout",
     "output_type": "stream",
     "text": [
      "13\n",
      "[[19 13  9]\n",
      " [ 1  3  3]]\n",
      "[[1 1 2]\n",
      " [0 2 5]]\n",
      "[[5 3 7]\n",
      " [7 5 5]]\n"
     ]
    }
   ],
   "source": [
    "from numpy import random as rd\n",
    "a = rd.choice([1,3,5,7,9,11,13,15,17,19])\n",
    "b = rd.choice([1,3,5,7,9,11,13,15,17,19],size=(2,3))\n",
    "c = rd.choice(rd.randint(10),size=(2,3))\n",
    "d = rd.choice([1,3,5,7],p=[0.2,0.15,0.5,0.15],size=(2,3)) #กำหนดการกระจายแบบสุ่มด้วย random distribution\n",
    "print(a)\n",
    "print(b)\n",
    "print(c)\n",
    "print(d)"
   ]
  },
  {
   "cell_type": "code",
   "execution_count": 99,
   "metadata": {},
   "outputs": [
    {
     "name": "stdout",
     "output_type": "stream",
     "text": [
      "[6 9 1 5 4 2 3 7 0 8]\n"
     ]
    }
   ],
   "source": [
    "a = np.arange(10)\n",
    "rd.shuffle(a)\n",
    "print(a)"
   ]
  },
  {
   "cell_type": "code",
   "execution_count": 101,
   "metadata": {},
   "outputs": [
    {
     "name": "stdout",
     "output_type": "stream",
     "text": [
      "[6 9 4 2 8 5 1 0 3 7]\n"
     ]
    }
   ],
   "source": [
    "a = np.arange(10)\n",
    "b = rd.permutation(a)\n",
    "print(b)"
   ]
  },
  {
   "cell_type": "code",
   "execution_count": 103,
   "metadata": {},
   "outputs": [
    {
     "name": "stdout",
     "output_type": "stream",
     "text": [
      "[[ 0  1  2  3  4  5  6  7  8  9]\n",
      " [10 11 12 13 14 15 16 17 18 19]\n",
      " [20 21 22 23 24 25 26 27 28 29]\n",
      " [30 31 32 33 34 35 36 37 38 39]\n",
      " [40 41 42 43 44 45 46 47 48 49]]\n",
      "[[0]\n",
      " [1]\n",
      " [2]\n",
      " [3]\n",
      " [4]]\n",
      "[[  0   0   0   0   0   0   0   0   0   0]\n",
      " [ 10  11  12  13  14  15  16  17  18  19]\n",
      " [ 40  42  44  46  48  50  52  54  56  58]\n",
      " [ 90  93  96  99 102 105 108 111 114 117]\n",
      " [160 164 168 172 176 180 184 188 192 196]]\n"
     ]
    }
   ],
   "source": [
    "a = np.arange(50).reshape(5,10)\n",
    "b = np.arange(5).reshape(5,1)\n",
    "c = a*b\n",
    "print(a)\n",
    "print(b)\n",
    "print(c)"
   ]
  },
  {
   "cell_type": "code",
   "execution_count": 104,
   "metadata": {},
   "outputs": [
    {
     "name": "stdout",
     "output_type": "stream",
     "text": [
      "[[ 0  1  2  3]\n",
      " [ 4  5  6  7]\n",
      " [ 8  9 10 11]]\n",
      "[ 8  9 10 11]\n",
      "9\n"
     ]
    }
   ],
   "source": [
    "a = np.arange(12).reshape(3,4)\n",
    "print(a)\n",
    "print(a[2])\n",
    "print(a[2,1])"
   ]
  },
  {
   "cell_type": "code",
   "execution_count": 107,
   "metadata": {},
   "outputs": [
    {
     "name": "stdout",
     "output_type": "stream",
     "text": [
      "[[[ 0  1]\n",
      "  [ 2  3]\n",
      "  [ 4  5]]\n",
      "\n",
      " [[ 6  7]\n",
      "  [ 8  9]\n",
      "  [10 11]]\n",
      "\n",
      " [[12 13]\n",
      "  [14 15]\n",
      "  [16 17]]\n",
      "\n",
      " [[18 19]\n",
      "  [20 21]\n",
      "  [22 23]]]\n",
      "[[[ 8  9]\n",
      "  [10 11]]]\n"
     ]
    }
   ],
   "source": [
    "a = np.arange(24).reshape(4,3,2)\n",
    "print(a)\n",
    "print(a[1:3:2,1::1])"
   ]
  },
  {
   "cell_type": "code",
   "execution_count": 10,
   "metadata": {},
   "outputs": [
    {
     "name": "stdout",
     "output_type": "stream",
     "text": [
      "[[ 0  1  2]\n",
      " [ 3  4  5]\n",
      " [ 6  7  8]\n",
      " [ 9 10 11]]\n",
      "[3 1 1 0 2]\n",
      "[[ 9 10 11]\n",
      " [ 3  4  5]\n",
      " [ 3  4  5]\n",
      " [ 0  1  2]\n",
      " [ 6  7  8]]\n",
      "[11  5  5  2  7]\n"
     ]
    }
   ],
   "source": [
    "a = np.arange(12).reshape(4,3)\n",
    "print(a)\n",
    "idx1 = np.array([3,1,1,0,2])\n",
    "print(idx1)\n",
    "print(a[idx1]) #ต้องการแถวไหน\n",
    "idx2 = np.array([2,2,2,2,1])\n",
    "print(a[idx1,idx2]) #ต้องการแถวไหน หลักไหน"
   ]
  },
  {
   "cell_type": "code",
   "execution_count": 13,
   "metadata": {},
   "outputs": [
    {
     "name": "stdout",
     "output_type": "stream",
     "text": [
      "[[ 0  1  2]\n",
      " [ 3  4  5]\n",
      " [ 6  7  8]\n",
      " [ 9 10 11]]\n",
      "[0 1 2 3 4 5 6 7]\n",
      "[[ 0  1  2]\n",
      " [ 6  7  8]\n",
      " [ 9 10 11]]\n"
     ]
    }
   ],
   "source": [
    "a = np.arange(12).reshape(4,3)\n",
    "cond = np.array([True,False,True,True])\n",
    "print(a)\n",
    "print(a[a<8])\n",
    "print(a[cond])"
   ]
  },
  {
   "cell_type": "code",
   "execution_count": 15,
   "metadata": {},
   "outputs": [
    {
     "name": "stdout",
     "output_type": "stream",
     "text": [
      "[ 2.  8. 98.  1.  3.]\n",
      "[ 2.   7.6 98.   0.7  3.1]\n",
      "[  0.  10. 100.   0.   0.]\n",
      "[ 2.  8. 98.  1.  4.]\n",
      "[ 2.  7. 98.  0.  3.]\n"
     ]
    }
   ],
   "source": [
    "a = np.array([2.0,7.55,98,0.697,3.14])\n",
    "print(np.round(a)) #ทั้งปัดขึ้น ปัดลง\n",
    "print(np.round(a,1))\n",
    "print(np.round(a,-1))\n",
    "print(np.ceil(a)) #ปัดขึ้น\n",
    "print(np.floor(a)) #ปัดลง"
   ]
  },
  {
   "cell_type": "code",
   "execution_count": 16,
   "metadata": {},
   "outputs": [
    {
     "name": "stdout",
     "output_type": "stream",
     "text": [
      "[1 2 3]\n"
     ]
    }
   ],
   "source": [
    "a = np.array([-1,-2,-3])\n",
    "print(np.abs(a))"
   ]
  },
  {
   "cell_type": "code",
   "execution_count": 17,
   "metadata": {},
   "outputs": [
    {
     "name": "stdout",
     "output_type": "stream",
     "text": [
      "[0.         0.         1.09861229 1.38629436]\n",
      "[ 2.71828183  2.71828183 20.08553692 54.59815003]\n"
     ]
    }
   ],
   "source": [
    "a = np.array([1,1,3,4])\n",
    "print(np.log(a)) #ฐานe\n",
    "print(np.exp(a)) #ฐานe"
   ]
  },
  {
   "cell_type": "code",
   "execution_count": 18,
   "metadata": {},
   "outputs": [
    {
     "name": "stdout",
     "output_type": "stream",
     "text": [
      "[ 4  5  6  7  8  9 10]\n",
      "[ 16  25  36  49  64  81 100]\n",
      "[2.         2.32192809 2.5849625  2.80735492 3.         3.169925\n",
      " 3.32192809]\n",
      "[0.60205999 0.69897    0.77815125 0.84509804 0.90308999 0.95424251\n",
      " 1.        ]\n"
     ]
    }
   ],
   "source": [
    "a = np.arange(4,11)\n",
    "print(a)\n",
    "print(np.power(a,2))\n",
    "print(np.log2(a))\n",
    "print(np.log10(a))"
   ]
  },
  {
   "cell_type": "code",
   "execution_count": 19,
   "metadata": {},
   "outputs": [
    {
     "name": "stdout",
     "output_type": "stream",
     "text": [
      "[[ 0  1  2]\n",
      " [ 3  4  5]\n",
      " [ 6  7  8]\n",
      " [ 9 10 11]]\n",
      "sum by column :  [18 22 26]\n",
      "sum by row :  [ 3 12 21 30]\n"
     ]
    }
   ],
   "source": [
    "a = np.arange(12).reshape(4,3)\n",
    "print(a)\n",
    "print(\"sum by column : \", a.sum(axis=0))\n",
    "print(\"sum by row : \", a.sum(axis=1))"
   ]
  },
  {
   "cell_type": "code",
   "execution_count": 20,
   "metadata": {},
   "outputs": [
    {
     "name": "stdout",
     "output_type": "stream",
     "text": [
      "[1. 2. 3. 4.]\n"
     ]
    }
   ],
   "source": [
    "a = np.array([1,4,9,16])\n",
    "print(np.sqrt(a))"
   ]
  },
  {
   "cell_type": "code",
   "execution_count": 23,
   "metadata": {},
   "outputs": [
    {
     "name": "stdout",
     "output_type": "stream",
     "text": [
      "NOT a [False False False False]\n",
      "a XOR b [False  True  True False]\n",
      "a OR b [ True  True  True  True]\n",
      "a AND b [ True False False  True]\n"
     ]
    }
   ],
   "source": [
    "a = np.array([1,1,3,4])\n",
    "b = np.array([1,0,0,4])\n",
    "print(\"NOT a\",np.logical_not(a))\n",
    "print(\"a XOR b\",np.logical_xor(a,b))\n",
    "print(\"a OR b\",np.logical_or(a,b))\n",
    "print(\"a AND b\",np.logical_and(a,b))"
   ]
  },
  {
   "cell_type": "code",
   "execution_count": 24,
   "metadata": {},
   "outputs": [
    {
     "name": "stdout",
     "output_type": "stream",
     "text": [
      "False\n",
      "True\n"
     ]
    }
   ],
   "source": [
    "a = np.array([1,4,9,16])\n",
    "print(np.all(a>5))\n",
    "print(np.any(a>5))"
   ]
  },
  {
   "cell_type": "code",
   "execution_count": 25,
   "metadata": {},
   "outputs": [
    {
     "name": "stdout",
     "output_type": "stream",
     "text": [
      "[ 4 11  4  9 10 10  5  4  5 11]\n",
      "min :  4\n",
      "max :  11\n",
      "median :  7.0\n",
      "mean :  7.3\n"
     ]
    }
   ],
   "source": [
    "a = rd.randint(4,12,size=10)\n",
    "print(a)\n",
    "print(\"min : \",np.min(a))\n",
    "print(\"max : \",np.max(a))\n",
    "print(\"median : \",np.median(a))\n",
    "print(\"mean : \",np.mean(a))"
   ]
  },
  {
   "cell_type": "code",
   "execution_count": 27,
   "metadata": {},
   "outputs": [
    {
     "name": "stdout",
     "output_type": "stream",
     "text": [
      "[[ 8 10  8  8  9]\n",
      " [ 6  9  8  6  9]]\n",
      "min :  [8 6]\n",
      "max :  [10  9]\n",
      "median :  [8. 8.]\n",
      "mean :  [8.6 7.6]\n"
     ]
    }
   ],
   "source": [
    "a = rd.randint(4,12,size=10).reshape(2,5)\n",
    "print(a)\n",
    "print(\"min : \",np.min(a,axis=1))\n",
    "print(\"max : \",np.max(a,axis=1))\n",
    "print(\"median : \",np.median(a,axis=1))\n",
    "print(\"mean : \",np.mean(a,axis=1))"
   ]
  },
  {
   "cell_type": "code",
   "execution_count": 28,
   "metadata": {},
   "outputs": [
    {
     "name": "stdout",
     "output_type": "stream",
     "text": [
      "[ 9  9 10  4  4  7  6 10 11  5]\n",
      "[ 4  4  5  6  7  9  9 10 10 11]\n"
     ]
    }
   ],
   "source": [
    "a = rd.randint(4,12,size=10)\n",
    "print(a)\n",
    "print(np.sort(a))"
   ]
  },
  {
   "cell_type": "code",
   "execution_count": 29,
   "metadata": {},
   "outputs": [
    {
     "name": "stdout",
     "output_type": "stream",
     "text": [
      "[[11  7 10]\n",
      " [ 5  4  5]\n",
      " [ 6  6  8]\n",
      " [ 8  5  9]]\n",
      "[[ 5  4  5]\n",
      " [ 6  5  8]\n",
      " [ 8  6  9]\n",
      " [11  7 10]]\n"
     ]
    }
   ],
   "source": [
    "a = rd.randint(4,12,size=12).reshape(4,3)\n",
    "print(a)\n",
    "print(np.sort(a,axis=0))"
   ]
  },
  {
   "cell_type": "code",
   "execution_count": null,
   "metadata": {},
   "outputs": [],
   "source": []
  }
 ],
 "metadata": {
  "kernelspec": {
   "display_name": "Python 3",
   "language": "python",
   "name": "python3"
  },
  "language_info": {
   "codemirror_mode": {
    "name": "ipython",
    "version": 3
   },
   "file_extension": ".py",
   "mimetype": "text/x-python",
   "name": "python",
   "nbconvert_exporter": "python",
   "pygments_lexer": "ipython3",
   "version": "3.8.5"
  }
 },
 "nbformat": 4,
 "nbformat_minor": 4
}
